{
 "cells": [
  {
   "cell_type": "code",
   "execution_count": 1,
   "metadata": {},
   "outputs": [],
   "source": [
    "import numpy as np\n",
    "from scipy.integrate import odeint\n",
    "from scipy.optimize import *\n",
    "import matplotlib.pyplot as plt\n",
    "import ipywidgets as widgets\n",
    "from IPython.display import display\n",
    "%matplotlib inline"
   ]
  },
  {
   "cell_type": "code",
   "execution_count": 2,
   "metadata": {},
   "outputs": [],
   "source": [
    "#List of constant values.\n",
    "surface_area = 0.005 \n",
    "valence = 3\n",
    "D_La = 4.4e13\n",
    "D_Nd = 5.2e13\n",
    "D_Na = 1.9e15\n",
    "D_H = 1.1e16\n",
    "\n",
    "#C_La_mem0 = eq_79_sol[0] \n",
    "#C_Nd_mem0 = eq_79_sol[1] \n",
    "#C_Na_mem0 = eq_79_sol[2]\n",
    "#C_H_mem0 = eq_79_sol[3]\n",
    "\n",
    "K_H_La = 1.49\n",
    "K_H_Nd = 1.15\n",
    "K_H_Na = 0.32\n",
    "\n",
    "I = 20\n",
    "F = 96485\n",
    "V = 0.00125\n",
    "\n",
    "# IVP parameters\n",
    "n = 40000\n",
    "tspan = np.linspace(0, n, 100)\n",
    "#y0 = [eq_79_sol[0], eq_79_sol[1], eq_79_sol[2], eq_79_sol[3]]\n",
    "ytest = [9.3, 2.2, 5, 1]\n"
   ]
  },
  {
   "cell_type": "code",
   "execution_count": 3,
   "metadata": {},
   "outputs": [],
   "source": [
    "def RKG_Takahashi(z, t):\n",
    "    '''\n",
    "        z[0] = C_La\n",
    "        z[1] = C_Nd\n",
    "        z[2] = C_Na\n",
    "        z[3] = C_H\n",
    "        \n",
    "        f1 = dC_La/dt\n",
    "        f2 = dC_Nd/dt\n",
    "        f3 = dC_Na/dt\n",
    "        f4 = dC_H/dt\n",
    "        \n",
    "        ** Need to convert f5-f8 into an array**\n",
    "    '''\n",
    "    \n",
    "    C_La_mem, C_Nd_mem, C_Na_mem, C_H_mem = z # initial values\n",
    "    \n",
    "    f1 = surface_area * ((valence * D_La * C_La_mem) / \\\n",
    "                         (valence**2 * D_La * C_La_mem + \\\n",
    "                          valence**2 * D_Nd * C_Nd_mem + \\\n",
    "                          D_Na * C_Na_mem + D_H * C_H_mem)) * I/F * 1/-V\n",
    "    \n",
    "    f2 = surface_area * ((valence * D_Nd * C_Nd_mem) / \\\n",
    "                         (valence**2 * D_Nd * C_Nd_mem + \\\n",
    "                          valence**2 * D_La * C_La_mem + \\\n",
    "                          D_Na * C_Na_mem + D_H * C_H_mem)) * I/F * 1/-V\n",
    "    \n",
    "    f3 = surface_area * ((D_Na * C_Na_mem) / (valence**2 * D_La * C_La_mem + \\\n",
    "                                              valence**2 * D_Nd * C_Nd_mem + \\\n",
    "                                              D_Na * C_Na_mem + D_H * C_H_mem)) * I/F * 1/-V\n",
    "    \n",
    "    f4 = surface_area * ((D_H * C_H_mem) / (valence**2 * D_La * C_La_mem + \\\n",
    "                                            valence**2 * D_Nd * C_Nd_mem + \\\n",
    "                                            D_Na * C_Na_mem + D_H * C_H_mem)) * I/F * 1/-V\n",
    "     \n",
    "    return [f1, f2, f3, f4]"
   ]
  },
  {
   "cell_type": "code",
   "execution_count": 4,
   "metadata": {},
   "outputs": [
    {
     "data": {
      "text/plain": [
       "array([[ 9.30000000e+00,  2.20000000e+00,  5.00000000e+00,\n",
       "         1.00000000e+00],\n",
       "       [ 9.28308490e+00,  2.19527183e+00,  4.87068203e+00,\n",
       "         8.59239938e-01],\n",
       "       [ 9.26489285e+00,  2.19018847e+00,  4.73507952e+00,\n",
       "         7.29660806e-01],\n",
       "       [ 9.24531859e+00,  2.18472091e+00,  4.59310273e+00,\n",
       "         6.11755219e-01],\n",
       "       [ 9.22425963e+00,  2.17884099e+00,  4.44478680e+00,\n",
       "         5.05879940e-01],\n",
       "       [ 9.20162088e+00,  2.17252269e+00,  4.29032283e+00,\n",
       "         4.12207210e-01],\n",
       "       [ 9.17731955e+00,  2.16574352e+00,  4.13008308e+00,\n",
       "         3.30680626e-01],\n",
       "       [ 9.15128976e+00,  2.15848580e+00,  3.96463479e+00,\n",
       "         2.60983590e-01],\n",
       "       [ 9.12348602e+00,  2.15073760e+00,  3.79473675e+00,\n",
       "         2.02529616e-01],\n",
       "       [ 9.09388453e+00,  2.14249313e+00,  3.62131582e+00,\n",
       "         1.54480576e-01],\n",
       "       [ 9.06248207e+00,  2.13375240e+00,  3.44542458e+00,\n",
       "         1.15793528e-01],\n",
       "       [ 9.02929236e+00,  2.12452018e+00,  3.26818624e+00,\n",
       "         8.52898155e-02],\n",
       "       [ 8.99434060e+00,  2.11480448e+00,  3.09073557e+00,\n",
       "         6.17349967e-02],\n",
       "       [ 8.95765726e+00,  2.10461483e+00,  2.91416555e+00,\n",
       "         4.39161284e-02],\n",
       "       [ 8.91927224e+00,  2.09396062e+00,  2.73948680e+00,\n",
       "         3.07047404e-02],\n",
       "       [ 8.87921010e+00,  2.08284980e+00,  2.56760260e+00,\n",
       "         2.10999450e-02],\n",
       "       [ 8.83748704e+00,  2.07128802e+00,  2.39929909e+00,\n",
       "         1.42501497e-02],\n",
       "       [ 8.79410932e+00,  2.05927824e+00,  2.23524714e+00,\n",
       "         9.45675590e-03],\n",
       "       [ 8.74907326e+00,  2.04682072e+00,  2.07601191e+00,\n",
       "         6.16488929e-03],\n",
       "       [ 8.70236621e+00,  2.03391329e+00,  1.92206595e+00,\n",
       "         3.94639443e-03],\n",
       "       [ 8.65396831e+00,  2.02055188e+00,  1.77380296e+00,\n",
       "         2.47949047e-03],\n",
       "       [ 8.60385456e+00,  2.00673108e+00,  1.63155006e+00,\n",
       "         1.52818819e-03],\n",
       "       [ 8.55199724e+00,  1.99244482e+00,  1.49557774e+00,\n",
       "         9.23391333e-04],\n",
       "       [ 8.49836827e+00,  1.97768705e+00,  1.36610686e+00,\n",
       "         5.46662352e-04],\n",
       "       [ 8.44294155e+00,  1.96245235e+00,  1.24331304e+00,\n",
       "         3.16884243e-04],\n",
       "       [ 8.38569519e+00,  1.94673658e+00,  1.12732870e+00,\n",
       "         1.79747529e-04],\n",
       "       [ 8.32661352e+00,  1.93053742e+00,  1.01824340e+00,\n",
       "         9.97184327e-05],\n",
       "       [ 8.26568889e+00,  1.91385481e+00,  9.16102897e-01,\n",
       "         5.40735820e-05],\n",
       "       [ 8.20292315e+00,  1.89669144e+00,  8.20907811e-01,\n",
       "         2.86494917e-05],\n",
       "       [ 8.13832885e+00,  1.87905295e+00,  7.32612150e-01,\n",
       "         1.48242488e-05],\n",
       "       [ 8.07192998e+00,  1.86094822e+00,  6.51122440e-01,\n",
       "         7.48972216e-06],\n",
       "       [ 8.00376238e+00,  1.84238936e+00,  5.76297750e-01,\n",
       "         3.69311166e-06],\n",
       "       [ 7.93387364e+00,  1.82339173e+00,  5.07950927e-01,\n",
       "         1.77796636e-06],\n",
       "       [ 7.86232257e+00,  1.80397373e+00,  4.45851216e-01,\n",
       "         8.36891315e-07],\n",
       "       [ 7.78917828e+00,  1.78415654e+00,  3.89728270e-01,\n",
       "         3.84650681e-07],\n",
       "       [ 7.71451884e+00,  1.76396372e+00,  3.39277439e-01,\n",
       "         1.72909480e-07],\n",
       "       [ 7.63842970e+00,  1.74342073e+00,  2.94166053e-01,\n",
       "         7.60475448e-08],\n",
       "       [ 7.56100185e+00,  1.72255448e+00,  2.54040570e-01,\n",
       "         3.23486488e-08],\n",
       "       [ 7.48232991e+00,  1.70139271e+00,  2.18533860e-01,\n",
       "         1.35574218e-08],\n",
       "       [ 7.40251025e+00,  1.67996353e+00,  1.87272552e-01,\n",
       "         5.44894475e-09],\n",
       "       [ 7.32163915e+00,  1.65829487e+00,  1.59883995e-01,\n",
       "         2.49380578e-09],\n",
       "       [ 7.23981115e+00,  1.63641407e+00,  1.36002531e-01,\n",
       "         1.18476179e-09],\n",
       "       [ 7.15711769e+00,  1.61434748e+00,  1.15274830e-01,\n",
       "         1.09492820e-10],\n",
       "       [ 7.07364591e+00,  1.59212016e+00,  9.73642747e-02,\n",
       "         1.46086500e-09],\n",
       "       [ 6.98947780e+00,  1.56975566e+00,  8.19542535e-02,\n",
       "         4.39434113e-10],\n",
       "       [ 6.90468960e+00,  1.54727585e+00,  6.87504300e-02,\n",
       "        -2.25118979e-09],\n",
       "       [ 6.81935143e+00,  1.52470086e+00,  5.74820823e-02,\n",
       "         3.96145515e-10],\n",
       "       [ 6.73352714e+00,  1.50204901e+00,  4.79026181e-02,\n",
       "         1.17723935e-10],\n",
       "       [ 6.64727437e+00,  1.47933691e+00,  3.97894041e-02,\n",
       "         1.68987233e-10],\n",
       "       [ 6.56064469e+00,  1.45657943e+00,  3.29430566e-02,\n",
       "        -4.69315857e-11],\n",
       "       [ 6.47368389e+00,  1.43378985e+00,  2.71863299e-02,\n",
       "        -4.25049712e-11],\n",
       "       [ 6.38643237e+00,  1.41097995e+00,  2.23627191e-02,\n",
       "        -1.16486075e-11],\n",
       "       [ 6.29892551e+00,  1.38816015e+00,  1.83348863e-02,\n",
       "         5.00352062e-12],\n",
       "       [ 6.21119409e+00,  1.36533957e+00,  1.49830005e-02,\n",
       "        -1.70920918e-10],\n",
       "       [ 6.12326475e+00,  1.34252625e+00,  1.22031446e-02,\n",
       "        -1.03710874e-09],\n",
       "       [ 6.03516044e+00,  1.31972719e+00,  9.90541840e-03,\n",
       "        -1.63287840e-09],\n",
       "       [ 5.94690073e+00,  1.29694852e+00,  8.01269586e-03,\n",
       "         6.27797616e-10],\n",
       "       [ 5.85850232e+00,  1.27419558e+00,  6.45891244e-03,\n",
       "         7.44374984e-11],\n",
       "       [ 5.76997929e+00,  1.25147304e+00,  5.18778067e-03,\n",
       "        -2.84067500e-09],\n",
       "       [ 5.68134349e+00,  1.22878496e+00,  4.15153102e-03,\n",
       "         3.51026531e-09],\n",
       "       [ 5.59260482e+00,  1.20613494e+00,  3.30977289e-03,\n",
       "         3.28119752e-09],\n",
       "       [ 5.50377147e+00,  1.18352610e+00,  2.62849035e-03,\n",
       "         9.15435229e-10],\n",
       "       [ 5.41485016e+00,  1.16096124e+00,  2.07915021e-03,\n",
       "         3.15326645e-10],\n",
       "       [ 5.32584639e+00,  1.13844282e+00,  1.63788273e-03,\n",
       "         6.82814311e-11],\n",
       "       [ 5.23676456e+00,  1.11597305e+00,  1.28479852e-03,\n",
       "         7.76515801e-11],\n",
       "       [ 5.14760816e+00,  1.09355396e+00,  1.00343835e-03,\n",
       "        -7.59296907e-11],\n",
       "       [ 5.05837989e+00,  1.07118738e+00,  7.80156042e-04,\n",
       "         6.23268453e-11],\n",
       "       [ 4.96908180e+00,  1.04887500e+00,  6.03723834e-04,\n",
       "        -1.01113767e-10],\n",
       "       [ 4.87971536e+00,  1.02661841e+00,  4.64939820e-04,\n",
       "        -1.13271326e-09],\n",
       "       [ 4.79028159e+00,  1.00441913e+00,  3.56260020e-04,\n",
       "        -1.26741461e-09],\n",
       "       [ 4.70078107e+00,  9.82278595e-01,  2.71557416e-04,\n",
       "         1.59152781e-09],\n",
       "       [ 4.61121406e+00,  9.60198216e-01,  2.05875085e-04,\n",
       "         3.22722382e-09],\n",
       "       [ 4.52158052e+00,  9.38179368e-01,  1.55201915e-04,\n",
       "        -4.93553146e-09],\n",
       "       [ 4.43188015e+00,  9.16223416e-01,  1.16314925e-04,\n",
       "        -1.24785625e-08],\n",
       "       [ 4.34211245e+00,  8.94331727e-01,  8.66396778e-05,\n",
       "        -2.61369156e-09],\n",
       "       [ 4.25227672e+00,  8.72505681e-01,  6.41251826e-05,\n",
       "        -5.69188962e-10],\n",
       "       [ 4.16237209e+00,  8.50746683e-01,  4.71419421e-05,\n",
       "        -6.97579164e-11],\n",
       "       [ 4.07239758e+00,  8.29056152e-01,  3.44226753e-05,\n",
       "        -1.54622846e-12],\n",
       "       [ 3.98235204e+00,  8.07435563e-01,  2.49558087e-05,\n",
       "        -6.46683442e-11],\n",
       "       [ 3.89223422e+00,  7.85886439e-01,  1.79512083e-05,\n",
       "        -1.75251389e-10],\n",
       "       [ 3.80204274e+00,  7.64410347e-01,  1.28118363e-05,\n",
       "         8.32102302e-11],\n",
       "       [ 3.71177613e+00,  7.43008919e-01,  9.06824633e-06,\n",
       "         7.68632795e-10],\n",
       "       [ 3.62143282e+00,  7.21683854e-01,  6.36058846e-06,\n",
       "         1.60557256e-09],\n",
       "       [ 3.53101111e+00,  7.00436928e-01,  4.41991436e-06,\n",
       "         2.00084467e-09],\n",
       "       [ 3.44050921e+00,  6.79269997e-01,  3.04162163e-06,\n",
       "         1.20884130e-09],\n",
       "       [ 3.34992523e+00,  6.58185018e-01,  2.07290854e-06,\n",
       "        -2.31446080e-09],\n",
       "       [ 3.25925717e+00,  6.37184020e-01,  1.39566867e-06,\n",
       "        -1.12362002e-10],\n",
       "       [ 3.16850289e+00,  6.16269173e-01,  9.29396232e-07,\n",
       "        -1.52299061e-10],\n",
       "       [ 3.07766016e+00,  5.95442731e-01,  6.12141780e-07,\n",
       "        -9.61367799e-10],\n",
       "       [ 2.98672655e+00,  5.74707128e-01,  3.97647128e-07,\n",
       "        -6.46626434e-09],\n",
       "       [ 2.89569955e+00,  5.54064887e-01,  2.54648541e-07,\n",
       "        -8.33024658e-10],\n",
       "       [ 2.80457649e+00,  5.33518703e-01,  1.60799800e-07,\n",
       "        -1.63886504e-10],\n",
       "       [ 2.71335448e+00,  5.13071447e-01,  1.00006316e-07,\n",
       "         1.73040767e-09],\n",
       "       [ 2.62203048e+00,  4.92726172e-01,  6.10784312e-08,\n",
       "         5.12531322e-10],\n",
       "       [ 2.53060125e+00,  4.72486129e-01,  3.66648057e-08,\n",
       "         9.86517761e-11],\n",
       "       [ 2.43906330e+00,  4.52354800e-01,  2.16122637e-08,\n",
       "        -8.84467363e-10],\n",
       "       [ 2.34741289e+00,  4.32335932e-01,  1.24442193e-08,\n",
       "        -1.86234158e-10],\n",
       "       [ 2.25564601e+00,  4.12433529e-01,  7.01309115e-09,\n",
       "        -1.51949894e-10],\n",
       "       [ 2.16375833e+00,  3.92651927e-01,  3.86127886e-09,\n",
       "        -3.20777701e-09],\n",
       "       [ 2.07174516e+00,  3.72995820e-01,  2.06428540e-09,\n",
       "        -5.62623594e-10]])"
      ]
     },
     "execution_count": 4,
     "metadata": {},
     "output_type": "execute_result"
    }
   ],
   "source": [
    "sol = odeint(RKG_Takahashi, ytest, tspan)\n",
    "sol"
   ]
  },
  {
   "cell_type": "code",
   "execution_count": 5,
   "metadata": {},
   "outputs": [
    {
     "data": {
      "text/plain": [
       "Text(0.5, 1.0, 'Concentration Profile')"
      ]
     },
     "execution_count": 5,
     "metadata": {},
     "output_type": "execute_result"
    },
    {
     "data": {
      "image/png": "[encoded data removed]",
      "text/plain": [
       "<Figure size 432x288 with 1 Axes>"
      ]
     },
     "metadata": {
      "needs_background": "light"
     },
     "output_type": "display_data"
    }
   ],
   "source": [
    "plt.ion()\n",
    "\n",
    "#plt.rcParams['figure.figsize'] = [10, 10]\n",
    "plt.plot(tspan, sol[:,0], 'crimson')\n",
    "plt.plot(tspan, sol[:,1], 'deepskyblue')\n",
    "plt.plot(tspan, sol[:,2], 'lightpink')\n",
    "plt.plot(tspan, sol[:,3], 'mediumseagreen')\n",
    "plt.xlabel('Time (s)')\n",
    "plt.ylabel('Concentration (mol/m^3)')\n",
    "plt.legend(['La', 'Nd', 'EDTA', 'H'])\n",
    "plt.title(('Concentration Profile'))\n",
    "\n"
   ]
  },
  {
   "cell_type": "code",
   "execution_count": 7,
   "metadata": {},
   "outputs": [
    {
     "data": {
      "application/vnd.jupyter.widget-view+json": {
       "model_id": "8478db62f4b744a09a975ff220e59a03",
       "version_major": 2,
       "version_minor": 0
      },
      "text/plain": [
       "interactive(children=(FloatSlider(value=9.3, description='$[La]$', max=50.0), FloatSlider(value=2.2, descripti…"
      ]
     },
     "metadata": {},
     "output_type": "display_data"
    },
    {
     "data": {
      "text/plain": [
       "<function __main__.update(lanthanum, neodymium, edta, hydrogen, agent, lree, hree)>"
      ]
     },
     "execution_count": 7,
     "metadata": {},
     "output_type": "execute_result"
    }
   ],
   "source": [
    "#fig, ax = plt.subplots(1, figsize=(10, 4))\n",
    "#plt.suptitle('Concentration Profile')\n",
    "\n",
    "\n",
    "def update(lanthanum, neodymium, edta, hydrogen, agent, lree, hree):\n",
    "    \n",
    "    '''\n",
    "    Changes the plot according to different input parameters.\n",
    "    '''\n",
    "\n",
    "    update_sol = odeint(RKG_Takahashi, [lanthanum, neodymium, edta, hydrogen], tspan)\n",
    "    \n",
    "    J_La = update_sol[99][0]\n",
    "    J_Nd = update_sol[99][1]\n",
    "\n",
    "    S_La_Nd = (J_La/surface_area*V)/(J_Nd/surface_area*V)\n",
    "    \n",
    "    plt.rcParams['figure.figsize'] = [10, 6]\n",
    "    plt.plot(tspan, update_sol[:,0], 'crimson')\n",
    "    plt.plot(tspan, update_sol[:,1], 'deepskyblue')\n",
    "    plt.plot(tspan, update_sol[:,2], 'lightpink')\n",
    "    plt.plot(tspan, update_sol[:,3], 'mediumseagreen')\n",
    "    plt.xlabel('$Time (s)$')\n",
    "    plt.ylabel('$Concentration~(mol/m^3)$')\n",
    "    plt.legend(['La', 'Nd', 'EDTA', 'H', 'test'], loc=1)\n",
    "    plt.title(('Concentration Profile'))\n",
    "    \n",
    "    print(\"Separation Factor of La over Nd = \" + \"\\033[3;37;40m\" + str(S_La_Nd))\n",
    "\n",
    "    return\n"
   ]
  },
  {
   "cell_type": "code",
   "execution_count": 8,
   "metadata": {},
   "outputs": [
    {
     "data": {
      "application/vnd.jupyter.widget-view+json": {
       "model_id": "f31912cf94544767ba5222b433b6969b",
       "version_major": 2,
       "version_minor": 0
      },
      "text/plain": [
       "interactive(children=(FloatSlider(value=9.3, description='$[La]$', max=50.0), FloatSlider(value=2.2, descripti…"
      ]
     },
     "metadata": {},
     "output_type": "display_data"
    },
    {
     "data": {
      "text/plain": [
       "<function __main__.update(lanthanum, neodymium, edta, hydrogen, agent, lree, hree)>"
      ]
     },
     "execution_count": 8,
     "metadata": {},
     "output_type": "execute_result"
    }
   ],
   "source": [
    "lanthanum = widgets.FloatSlider(value=9.3, min=0, max=50.0, description='$[La]$')\n",
    "neodymium = widgets.FloatSlider(value=2.2, min=0, max=50.0, description='$[Nd]$')\n",
    "edta = widgets.FloatSlider(value=5.0, min=0, max=10, description='$[EDTA]$', slidermax=neodymium)\n",
    "hydrogen = widgets.FloatSlider(value=1.0, min=0, max=10, description='$[H]$')\n",
    "\n",
    "\n",
    "hree = widgets.Dropdown(\n",
    "        options=['Pr', 'Nd', 'Eu'],\n",
    "        value='Pr',\n",
    "        description='HREE')\n",
    "\n",
    "lree = widgets.Dropdown(\n",
    "        options=['La', 'Pr', 'Nd', 'Eu'],\n",
    "        value='La',\n",
    "        description='LREE')\n",
    "\n",
    "agent = widgets.Dropdown(\n",
    "    options=['EDTA', 'DTPA'],\n",
    "    value='EDTA',\n",
    "    description='Chelating Agent')\n",
    "\n",
    "widgets.interact(update, lanthanum=lanthanum, neodymium=neodymium, edta=edta, hydrogen=hydrogen, agent=agent, hree=hree, lree=lree)"
   ]
  },
  {
   "cell_type": "code",
   "execution_count": 9,
   "metadata": {},
   "outputs": [
    {
     "data": {
      "application/vnd.jupyter.widget-view+json": {
       "model_id": "2bce7a508d4a4fe5aafb479913166380",
       "version_major": 2,
       "version_minor": 0
      },
      "text/plain": [
       "Dropdown(description='Task:', options=('Addition', 'Multiplication', 'Subtraction'), value='Addition')"
      ]
     },
     "metadata": {},
     "output_type": "display_data"
    },
    {
     "data": {
      "application/vnd.jupyter.widget-view+json": {
       "model_id": "9c58011fbcb94efdb1e74aef82a14848",
       "version_major": 2,
       "version_minor": 0
      },
      "text/plain": [
       "HBox(children=(Label(value='A too long description'), Dropdown(options=('EDTA', 'DTPA'), value='EDTA')))"
      ]
     },
     "metadata": {},
     "output_type": "display_data"
    },
    {
     "data": {
      "application/vnd.jupyter.widget-view+json": {
       "model_id": "889bec4c22e242e0b95fb04ddd5bb641",
       "version_major": 2,
       "version_minor": 0
      },
      "text/plain": [
       "Dropdown(description='Chelant:', options=('EDTA', 'HEDTA', 'DCTA'), value='EDTA')"
      ]
     },
     "metadata": {},
     "output_type": "display_data"
    },
    {
     "name": "stdout",
     "output_type": "stream",
     "text": [
      "EDTA\n"
     ]
    }
   ],
   "source": [
    "w = widgets.Dropdown(\n",
    "    options=['Addition', 'Multiplication', 'Subtraction'],\n",
    "    value='Addition',\n",
    "    description='Task:',\n",
    ")\n",
    "\n",
    "def on_change(change):\n",
    "    if change['type'] == 'change' and change['name'] == 'value':\n",
    "        print(\"changed to %s\" % change['new'])\n",
    "\n",
    "w.observe(on_change)\n",
    "\n",
    "display(w)\n",
    "\n",
    "test = widgets.HBox([widgets.Label('A too long description'), widgets.Dropdown(\n",
    "    options=['EDTA', 'DTPA'],\n",
    "    value='EDTA')])\n",
    "\n",
    "display(test)\n",
    "\n",
    "test2 = widgets.Dropdown(options=['EDTA', 'HEDTA', 'DCTA'],\n",
    "    value='EDTA',\n",
    "    description='Chelant:',\n",
    ")\n",
    "\n",
    "display(test2)\n",
    "\n",
    "print(test2.value)"
   ]
  }
 ],
 "metadata": {
  "kernelspec": {
   "display_name": "Python 3",
   "language": "python",
   "name": "python3"
  },
  "language_info": {
   "codemirror_mode": {
    "name": "ipython",
    "version": 3
   },
   "file_extension": ".py",
   "mimetype": "text/x-python",
   "name": "python",
   "nbconvert_exporter": "python",
   "pygments_lexer": "ipython3",
   "version": "3.6.5"
  }
 },
 "nbformat": 4,
 "nbformat_minor": 4
}
