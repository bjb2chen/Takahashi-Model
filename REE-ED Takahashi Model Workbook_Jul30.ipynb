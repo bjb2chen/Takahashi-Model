{
 "cells": [
  {
   "cell_type": "markdown",
   "metadata": {},
   "source": [
    "# Takahashi Model Emulation (Python Implementation)"
   ]
  },
  {
   "cell_type": "markdown",
   "metadata": {},
   "source": [
    "<p style=\"color:crimson;\"> *To start using this notebook, please press the double <code>>></code> button.* </p> "
   ]
  },
  {
   "cell_type": "code",
   "execution_count": 1,
   "metadata": {},
   "outputs": [],
   "source": [
    "import numpy as np\n",
    "from scipy.integrate import odeint\n",
    "from scipy.optimize import *\n",
    "import matplotlib.pyplot as plt\n",
    "%matplotlib inline\n",
    "np.seterr(divide='ignore');"
   ]
  },
  {
   "cell_type": "markdown",
   "metadata": {},
   "source": [
    "<code>Sample initial parameters:</code>\n",
    "\n",
    "$\n",
    "\\begin{align}\n",
    "La^{3+} = Nd^{3+} = 10~mol/m^3, && EDTA:REE = 0.5, && pH = 3, && Q = 30~mol/m^3 && Duration = 30000s\n",
    "\\end{align}\n",
    "$\n"
   ]
  },
  {
   "cell_type": "code",
   "execution_count": 2,
   "metadata": {},
   "outputs": [
    {
     "name": "stdout",
     "output_type": "stream",
     "text": [
      "Please input the initial parameters for a binary La/Nd w/ EDTA separation: \n",
      "La initial concentration (mol/m^3): 10\n",
      "Nd initial concentration (mol/m^3): 10\n",
      "EDTA to REE Ratio (0 to 1.0): 0.5\n",
      "Initial pH: 4\n",
      "Ion exchange capacity (mol/m^3): 50\n",
      "Duration of Test (s): 35000\n"
     ]
    }
   ],
   "source": [
    "print('Please input the initial parameters for a binary La/Nd w/ EDTA separation: ')\n",
    "\n",
    "La_conc = float(input('La initial concentration (mol/m^3): '))\n",
    "Nd_conc = float(input('Nd initial concentration (mol/m^3): '))\n",
    "EDTA_ratio = float(input('EDTA to REE Ratio (0 to 1.0): '))\n",
    "pH = float(input('Initial pH: '))\n",
    "Q = float(input('Ion exchange capacity (mol/m^3): '))\n",
    "duration = float(input('Duration of Test (s): '))\n"
   ]
  },
  {
   "cell_type": "code",
   "execution_count": 3,
   "metadata": {},
   "outputs": [],
   "source": [
    "init_pmtrs = [La_conc, Nd_conc, Nd_conc*EDTA_ratio, (np.power(10, -pH)*1000), Q]\n",
    "\n",
    "C_La_i = init_pmtrs[0]\n",
    "C_Nd_i = init_pmtrs[1]\n",
    "C_Na_i = init_pmtrs[2]\n",
    "C_H_i = init_pmtrs[3]\n",
    "Q = init_pmtrs[4]\n",
    "\n",
    "# Constants for equations 2 through 6:\n",
    "\n",
    "K_La_abs = np.power(10, 15.50)\n",
    "K_Nd_abs = np.power(10, 16.61)\n",
    "    \n",
    "k1 = np.power(10, -2.00)\n",
    "k2 = np.power(10, -2.67)\n",
    "k3 = np.power(10, -6.16)\n",
    "k4 = np.power(10, -10.26)\n",
    "\n",
    "alpha = (k1*k2*k3*k4)/(k1*k2*k3*k4 + \\\n",
    "                           k1*k2*k3*C_H_i + \\\n",
    "                           k1*k2*np.power(C_H_i, 2) + \\\n",
    "                           k1*np.power(C_H_i, 3) + \\\n",
    "                           np.power(C_H_i, 4))\n",
    "\n",
    "\n",
    "def eq_26(guess_26):\n",
    "    \n",
    "    C_LaEDTA = guess_26[0]\n",
    "    C_NdEDTA = guess_26[1]\n",
    "    C_EDTA_nc = guess_26[2]\n",
    "    \n",
    "    solution = np.zeros(3)\n",
    "    \n",
    "    solution[0] = C_La_i - (C_LaEDTA / (K_La_abs*alpha*C_EDTA_nc) + C_LaEDTA)\n",
    "    solution[1] = C_Nd_i - (C_NdEDTA / (K_Nd_abs*alpha*C_EDTA_nc) + C_NdEDTA)\n",
    "    solution[2] = C_Na_i - (C_LaEDTA + C_NdEDTA + C_EDTA_nc)\n",
    "\n",
    "    return solution"
   ]
  },
  {
   "cell_type": "code",
   "execution_count": 4,
   "metadata": {},
   "outputs": [
    {
     "name": "stdout",
     "output_type": "stream",
     "text": [
      "Concentration of LaEDTA = 0.3425706759687201\n",
      "Concentration of NdEDTA ion = 3.1364454363562424\n",
      "Concentration of EDTA non-complex = 1.520983887675038\n",
      "solution:  [0.34257068 3.13644544 1.52098389] \n",
      " equations: [1.15285559e-11 1.06084030e-10 0.00000000e+00]\n"
     ]
    }
   ],
   "source": [
    "guess = np.array([0.5,9.5,1])\n",
    "guess2 = np.array([(0.01*C_La_i),(0.99*C_Nd_i),(C_Na_i)])\n",
    "\n",
    "te_sol = fsolve(eq_26, guess2)\n",
    "print('Concentration of LaEDTA =', te_sol[0])\n",
    "print('Concentration of NdEDTA ion =', te_sol[1])\n",
    "print('Concentration of EDTA non-complex =', te_sol[2])\n",
    "\n",
    "print('solution: ', te_sol, '\\n', 'equations:', eq_26(te_sol))"
   ]
  },
  {
   "cell_type": "code",
   "execution_count": 5,
   "metadata": {},
   "outputs": [],
   "source": [
    "C_La_computed = te_sol[0]/(K_La_abs*(alpha*te_sol[2]))\n",
    "C_Nd_computed = te_sol[1]/(K_Nd_abs*(alpha*te_sol[2]))\n",
    "\n",
    "def eq_79(mem_guess):\n",
    "\n",
    "    C_La_mem = mem_guess[0]\n",
    "    C_Nd_mem = mem_guess[1]\n",
    "    C_Na_mem = mem_guess[2]\n",
    "    C_H_mem = mem_guess[3]\n",
    "    \n",
    "    solution = np.zeros(4) # 4 equations to solve\n",
    "    \n",
    "    solution[0] = C_La_mem - (1.49 * np.power(C_H_mem, 3) * (C_La_computed/(np.power(C_H_i,3)))**0.8)\n",
    "    solution[1] = C_Nd_mem - (1.15 * np.power(C_H_mem, 3) * (C_Nd_computed/(np.power(C_H_i,3)))**0.8)\n",
    "    solution[2] = C_Na_mem - (0.32 * C_H_mem * (C_Na_i/C_H_i))\n",
    "    solution[3] = Q - (3 * (C_La_mem+C_Nd_mem) + C_Na_mem + C_H_mem)\n",
    "    \n",
    "    return solution"
   ]
  },
  {
   "cell_type": "code",
   "execution_count": 6,
   "metadata": {},
   "outputs": [
    {
     "name": "stdout",
     "output_type": "stream",
     "text": [
      "Concentration of La in membrane= 9.918616301246539\n",
      "Concentration of Nd in membrane= 5.82522498528784\n",
      "Concentration of EDTA in membrane = 2.605624602726461\n",
      "Concentration of H in membrane = 0.1628515376704038\n",
      "solution:  [9.9186163  5.82522499 2.6056246  0.16285154] \n",
      " equations: [-1.24344979e-14 -7.99360578e-15  0.00000000e+00 -7.10542736e-15]\n"
     ]
    }
   ],
   "source": [
    "sample_guess = np.array([17.3, 13.4, 7.81, 0.00488])\n",
    "sample_guess2 = np.array([1,1,1,1]) # estimate membrane values\n",
    "sample_guess3 = np.array([C_La_computed*1.7, C_Nd_computed*1.3, C_Na_i*1.25, C_H_i*4])\n",
    "\n",
    "eq_79_sol = fsolve(eq_79, sample_guess3)\n",
    "\n",
    "print('Concentration of La in membrane=', eq_79_sol[0])\n",
    "print('Concentration of Nd in membrane=', eq_79_sol[1])\n",
    "print('Concentration of EDTA in membrane =', eq_79_sol[2])\n",
    "print('Concentration of H in membrane =', eq_79_sol[3])\n",
    "\n",
    "print('solution: ', eq_79_sol, '\\n', 'equations:', eq_79(eq_79_sol))"
   ]
  },
  {
   "cell_type": "code",
   "execution_count": 7,
   "metadata": {},
   "outputs": [],
   "source": [
    "#List of constant values.\n",
    "surface_area = 0.005 \n",
    "valence = 3\n",
    "D_La = 4.4e13\n",
    "D_Nd = 5.2e13\n",
    "D_Na = 1.9e15\n",
    "D_H = 1.1e16\n",
    "\n",
    "#C_La_mem0 = eq_79_sol[0] \n",
    "#C_Nd_mem0 = eq_79_sol[1] \n",
    "#C_Na_mem0 = eq_79_sol[2]\n",
    "#C_H_mem0 = eq_79_sol[3]\n",
    "\n",
    "K_H_La = 1.49\n",
    "K_H_Nd = 1.15\n",
    "K_H_Na = 0.32\n",
    "\n",
    "I = 20\n",
    "F = 96485\n",
    "V = 0.00125\n",
    "\n",
    "# IVP parameters\n",
    "n = duration\n",
    "tspan = np.linspace(0, n, 100)\n",
    "y0 = [eq_79_sol[0], eq_79_sol[1], eq_79_sol[2], eq_79_sol[3]]\n",
    "ytest = [9.3, 2.2, 5, 1]\n"
   ]
  },
  {
   "cell_type": "code",
   "execution_count": 8,
   "metadata": {},
   "outputs": [],
   "source": [
    "# Dynamics function\n",
    "def RKG_Takahashi(z, t):\n",
    "    '''\n",
    "        z[0] = C_La\n",
    "        z[1] = C_Nd\n",
    "        z[2] = C_Na\n",
    "        z[3] = C_H\n",
    "        \n",
    "        f1 = dC_La/dt\n",
    "        f2 = dC_Nd/dt\n",
    "        f3 = dC_Na/dt\n",
    "        f4 = dC_H/dt\n",
    "        \n",
    "        ** Need to convert f5-f8 into an array**\n",
    "    '''\n",
    "    \n",
    "    C_La_mem, C_Nd_mem, C_Na_mem, C_H_mem = z # initial values\n",
    "    \n",
    "    f1 = surface_area * ((valence * D_La * C_La_mem) / \\\n",
    "                         (valence**2 * D_La * C_La_mem + \\\n",
    "                          valence**2 * D_Nd * C_Nd_mem + \\\n",
    "                          D_Na * C_Na_mem + D_H * C_H_mem)) * I/F * 1/-V\n",
    "    \n",
    "    f2 = surface_area * ((valence * D_Nd * C_Nd_mem) / \\\n",
    "                         (valence**2 * D_Nd * C_Nd_mem + \\\n",
    "                          valence**2 * D_La * C_La_mem + \\\n",
    "                          D_Na * C_Na_mem + D_H * C_H_mem)) * I/F * 1/-V\n",
    "    \n",
    "    f3 = surface_area * ((D_Na * C_Na_mem) / (valence**2 * D_La * C_La_mem + \\\n",
    "                                              valence**2 * D_Nd * C_Nd_mem + \\\n",
    "                                              D_Na * C_Na_mem + D_H * C_H_mem)) * I/F * 1/-V\n",
    "    \n",
    "    f4 = surface_area * ((D_H * C_H_mem) / (valence**2 * D_La * C_La_mem + \\\n",
    "                                            valence**2 * D_Nd * C_Nd_mem + \\\n",
    "                                            D_Na * C_Na_mem + D_H * C_H_mem)) * I/F * 1/-V\n",
    "     \n",
    "    return [f1, f2, f3, f4]"
   ]
  },
  {
   "cell_type": "code",
   "execution_count": 9,
   "metadata": {},
   "outputs": [],
   "source": [
    "sol = odeint(RKG_Takahashi, y0, tspan)"
   ]
  },
  {
   "cell_type": "code",
   "execution_count": 10,
   "metadata": {},
   "outputs": [
    {
     "data": {
      "text/plain": [
       "numpy.ndarray"
      ]
     },
     "execution_count": 10,
     "metadata": {},
     "output_type": "execute_result"
    }
   ],
   "source": [
    "type(sol)"
   ]
  },
  {
   "cell_type": "code",
   "execution_count": 11,
   "metadata": {},
   "outputs": [
    {
     "data": {
      "text/plain": [
       "array([[ 9.91861630e+00,  5.82522499e+00,  2.60562460e+00,\n",
       "         1.62851538e-01],\n",
       "       [ 9.88931331e+00,  5.80489170e+00,  2.49698709e+00,\n",
       "         1.27266005e-01],\n",
       "       [ 9.85873835e+00,  5.78368748e+00,  2.38813783e+00,\n",
       "         9.83209659e-02],\n",
       "       [ 9.82695082e+00,  5.76165499e+00,  2.27966512e+00,\n",
       "         7.51218541e-02],\n",
       "       [ 9.79401437e+00,  5.73883984e+00,  2.17212112e+00,\n",
       "         5.67887699e-02],\n",
       "       [ 9.75999287e+00,  5.71528771e+00,  2.06600509e+00,\n",
       "         4.24938461e-02],\n",
       "       [ 9.72494713e+00,  5.69104213e+00,  1.96175350e+00,\n",
       "         3.14875153e-02],\n",
       "       [ 9.68893276e+00,  5.66614297e+00,  1.85973637e+00,\n",
       "         2.31133499e-02],\n",
       "       [ 9.65199893e+00,  5.64062560e+00,  1.76025866e+00,\n",
       "         1.68127924e-02],\n",
       "       [ 9.61418799e+00,  5.61452063e+00,  1.66356503e+00,\n",
       "         1.21223066e-02],\n",
       "       [ 9.57553573e+00,  5.58785408e+00,  1.56984644e+00,\n",
       "         8.66545202e-03],\n",
       "       [ 9.53607203e+00,  5.56064791e+00,  1.47924737e+00,\n",
       "         6.14226015e-03],\n",
       "       [ 9.49582177e+00,  5.53292056e+00,  1.39187295e+00,\n",
       "         4.31765090e-03],\n",
       "       [ 9.45480574e+00,  5.50468767e+00,  1.30779535e+00,\n",
       "         3.01013185e-03],\n",
       "       [ 9.41304164e+00,  5.47596272e+00,  1.22705933e+00,\n",
       "         2.08145107e-03],\n",
       "       [ 9.37054489e+00,  5.44675764e+00,  1.14968679e+00,\n",
       "         1.42759492e-03],\n",
       "       [ 9.32732946e+00,  5.41708334e+00,  1.07568050e+00,\n",
       "         9.71204818e-04],\n",
       "       [ 9.28340844e+00,  5.38695016e+00,  1.00502706e+00,\n",
       "         6.55374046e-04],\n",
       "       [ 9.23879464e+00,  5.35636819e+00,  9.37699209e-01,\n",
       "         4.38675760e-04],\n",
       "       [ 9.19350092e+00,  5.32534762e+00,  8.73657631e-01,\n",
       "         2.91258014e-04],\n",
       "       [ 9.14754058e+00,  5.29389887e+00,  8.12852460e-01,\n",
       "         1.91821011e-04],\n",
       "       [ 9.10092751e+00,  5.26203283e+00,  7.55224447e-01,\n",
       "         1.25315651e-04],\n",
       "       [ 9.05367638e+00,  5.22976086e+00,  7.00705985e-01,\n",
       "         8.12109641e-05],\n",
       "       [ 9.00580270e+00,  5.19709491e+00,  6.49221996e-01,\n",
       "         5.22080581e-05],\n",
       "       [ 8.95732285e+00,  5.16404752e+00,  6.00690759e-01,\n",
       "         3.32966817e-05],\n",
       "       [ 8.90825408e+00,  5.13063177e+00,  5.55024688e-01,\n",
       "         2.10666472e-05],\n",
       "       [ 8.85861442e+00,  5.09686129e+00,  5.12131091e-01,\n",
       "         1.32237267e-05],\n",
       "       [ 8.80842265e+00,  5.06275015e+00,  4.71912930e-01,\n",
       "         8.23576274e-06],\n",
       "       [ 8.75769815e+00,  5.02831286e+00,  4.34269567e-01,\n",
       "         5.08949415e-06],\n",
       "       [ 8.70646085e+00,  4.99356422e+00,  3.99097508e-01,\n",
       "         3.12105320e-06],\n",
       "       [ 8.65473104e+00,  4.95851927e+00,  3.66291142e-01,\n",
       "         1.89929161e-06],\n",
       "       [ 8.60252931e+00,  4.92319319e+00,  3.35743460e-01,\n",
       "         1.14713565e-06],\n",
       "       [ 8.54987637e+00,  4.88760123e+00,  3.07346750e-01,\n",
       "         6.87668618e-07],\n",
       "       [ 8.49679295e+00,  4.85175861e+00,  2.80993266e-01,\n",
       "         4.09205329e-07],\n",
       "       [ 8.44329971e+00,  4.81568042e+00,  2.56575853e-01,\n",
       "         2.41715988e-07],\n",
       "       [ 8.38941706e+00,  4.77938159e+00,  2.33988531e-01,\n",
       "         1.41756651e-07],\n",
       "       [ 8.33516510e+00,  4.74287678e+00,  2.13127025e-01,\n",
       "         8.24807777e-08],\n",
       "       [ 8.28056355e+00,  4.70618032e+00,  1.93889246e-01,\n",
       "         4.76477448e-08],\n",
       "       [ 8.22563159e+00,  4.66930617e+00,  1.76175706e-01,\n",
       "         2.73398318e-08],\n",
       "       [ 8.17038787e+00,  4.63226788e+00,  1.59889889e-01,\n",
       "         1.55574377e-08],\n",
       "       [ 8.11485040e+00,  4.59507851e+00,  1.44938543e-01,\n",
       "         8.81836065e-09],\n",
       "       [ 8.05903651e+00,  4.55775065e+00,  1.31231935e-01,\n",
       "         5.01391333e-09],\n",
       "       [ 8.00296283e+00,  4.52029633e+00,  1.18684077e-01,\n",
       "         2.49179246e-09],\n",
       "       [ 7.94664522e+00,  4.48272708e+00,  1.07212803e-01,\n",
       "         6.58978793e-10],\n",
       "       [ 7.89009879e+00,  4.44505386e+00,  9.67398819e-02,\n",
       "        -1.63778196e-10],\n",
       "       [ 7.83333787e+00,  4.40728707e+00,  8.71911115e-02,\n",
       "         5.12917469e-10],\n",
       "       [ 7.77637601e+00,  4.36943658e+00,  7.84962799e-02,\n",
       "         3.06082469e-09],\n",
       "       [ 7.71922599e+00,  4.33151168e+00,  7.05891805e-02,\n",
       "         4.83465994e-09],\n",
       "       [ 7.66189980e+00,  4.29352113e+00,  6.34075303e-02,\n",
       "         3.39534758e-09],\n",
       "       [ 7.60440870e+00,  4.25547316e+00,  5.68928924e-02,\n",
       "        -1.63656937e-09],\n",
       "       [ 7.54676319e+00,  4.21737548e+00,  5.09905835e-02,\n",
       "        -6.99015787e-09],\n",
       "       [ 7.48897308e+00,  4.17923531e+00,  4.56495496e-02,\n",
       "        -3.69762917e-09],\n",
       "       [ 7.43104749e+00,  4.14105939e+00,  4.08222366e-02,\n",
       "         8.41482861e-09],\n",
       "       [ 7.37299486e+00,  4.10285399e+00,  3.64644373e-02,\n",
       "         1.33652407e-08],\n",
       "       [ 7.31482303e+00,  4.06462496e+00,  3.25351503e-02,\n",
       "         6.30965273e-09],\n",
       "       [ 7.25653921e+00,  4.02637773e+00,  2.89964134e-02,\n",
       "         2.76037092e-09],\n",
       "       [ 7.19815006e+00,  3.98811735e+00,  2.58131487e-02,\n",
       "         2.05023831e-09],\n",
       "       [ 7.13966169e+00,  3.94984849e+00,  2.29530003e-02,\n",
       "         4.43032922e-10],\n",
       "       [ 7.08107970e+00,  3.91157546e+00,  2.03861757e-02,\n",
       "         5.78124723e-11],\n",
       "       [ 7.02240922e+00,  3.87330228e+00,  1.80852876e-02,\n",
       "         2.75623053e-11],\n",
       "       [ 6.96365493e+00,  3.83503265e+00,  1.60252008e-02,\n",
       "        -7.24587380e-12],\n",
       "       [ 6.90482108e+00,  3.79676998e+00,  1.41828819e-02,\n",
       "         1.05869127e-11],\n",
       "       [ 6.84591155e+00,  3.75851743e+00,  1.25372567e-02,\n",
       "        -2.57182510e-12],\n",
       "       [ 6.78692983e+00,  3.72027792e+00,  1.10690683e-02,\n",
       "         1.41912150e-11],\n",
       "       [ 6.72787909e+00,  3.68205415e+00,  9.76074810e-03,\n",
       "        -1.17884168e-10],\n",
       "       [ 6.66876217e+00,  3.64384859e+00,  8.59631469e-03,\n",
       "        -6.46571976e-10],\n",
       "       [ 6.60958163e+00,  3.60566354e+00,  7.56118852e-03,\n",
       "        -1.26653676e-09],\n",
       "       [ 6.55033976e+00,  3.56750114e+00,  6.64213673e-03,\n",
       "        -1.50479294e-09],\n",
       "       [ 6.49103860e+00,  3.52936333e+00,  5.82715948e-03,\n",
       "        -7.76574123e-10],\n",
       "       [ 6.43167996e+00,  3.49125195e+00,  5.10538423e-03,\n",
       "         3.39328193e-10],\n",
       "       [ 6.37226542e+00,  3.45316867e+00,  4.46696789e-03,\n",
       "         7.48616898e-10],\n",
       "       [ 6.31279640e+00,  3.41511506e+00,  3.90301048e-03,\n",
       "        -6.02972579e-10],\n",
       "       [ 6.25327410e+00,  3.37709257e+00,  3.40548194e-03,\n",
       "        -2.54349583e-09],\n",
       "       [ 6.19369960e+00,  3.33910257e+00,  2.96714227e-03,\n",
       "        -2.26417725e-09],\n",
       "       [ 6.13407378e+00,  3.30114631e+00,  2.58147339e-03,\n",
       "         2.05568333e-09],\n",
       "       [ 6.07439743e+00,  3.26322500e+00,  2.24261209e-03,\n",
       "         9.53778111e-09],\n",
       "       [ 6.01467118e+00,  3.22533973e+00,  1.94529456e-03,\n",
       "         1.25747534e-08],\n",
       "       [ 5.95489555e+00,  3.18749157e+00,  1.68480024e-03,\n",
       "         5.28701161e-09],\n",
       "       [ 5.89507096e+00,  3.14968151e+00,  1.45689901e-03,\n",
       "        -1.36597808e-08],\n",
       "       [ 5.83519772e+00,  3.11191049e+00,  1.25780981e-03,\n",
       "        -2.17453231e-08],\n",
       "       [ 5.77527606e+00,  3.07417941e+00,  1.08415026e-03,\n",
       "        -7.04585475e-09],\n",
       "       [ 5.71530613e+00,  3.03648913e+00,  9.32906537e-04,\n",
       "        -1.98266854e-09],\n",
       "       [ 5.65528800e+00,  2.99884048e+00,  8.01392389e-04,\n",
       "        -3.59610565e-10],\n",
       "       [ 5.59522166e+00,  2.96123426e+00,  6.87217638e-04,\n",
       "        -1.20276954e-09],\n",
       "       [ 5.53510704e+00,  2.92367123e+00,  5.88258690e-04,\n",
       "        -3.23943256e-10],\n",
       "       [ 5.47494403e+00,  2.88615216e+00,  5.02632450e-04,\n",
       "        -2.27239862e-10],\n",
       "       [ 5.41473245e+00,  2.84867778e+00,  4.28669684e-04,\n",
       "         3.30370309e-11],\n",
       "       [ 5.35447207e+00,  2.81124880e+00,  3.64892524e-04,\n",
       "        -2.02489060e-11],\n",
       "       [ 5.29416260e+00,  2.77386594e+00,  3.09997917e-04,\n",
       "         2.28541010e-11],\n",
       "       [ 5.23380373e+00,  2.73652991e+00,  2.62834418e-04,\n",
       "         3.75856661e-12],\n",
       "       [ 5.17339510e+00,  2.69924140e+00,  2.22388416e-04,\n",
       "         2.35576282e-12],\n",
       "       [ 5.11293631e+00,  2.66200111e+00,  1.87767985e-04,\n",
       "         4.94637415e-11],\n",
       "       [ 5.05242692e+00,  2.62480973e+00,  1.58192700e-04,\n",
       "         1.09372093e-10],\n",
       "       [ 4.99186647e+00,  2.58766796e+00,  1.32984592e-04,\n",
       "         8.01048171e-11],\n",
       "       [ 4.93125444e+00,  2.55057652e+00,  1.11541242e-04,\n",
       "        -5.97767931e-11],\n",
       "       [ 4.87059031e+00,  2.51353609e+00,  9.33373181e-05,\n",
       "        -2.19949475e-10],\n",
       "       [ 4.80987351e+00,  2.47654740e+00,  7.79176591e-05,\n",
       "        -1.82060939e-10],\n",
       "       [ 4.74910346e+00,  2.43961118e+00,  6.48855419e-05,\n",
       "         1.24413542e-10],\n",
       "       [ 4.68827952e+00,  2.40272816e+00,  5.38955360e-05,\n",
       "         6.29078259e-10],\n",
       "       [ 4.62740104e+00,  2.36589909e+00,  4.46517503e-05,\n",
       "         1.11008863e-09]])"
      ]
     },
     "execution_count": 11,
     "metadata": {},
     "output_type": "execute_result"
    }
   ],
   "source": [
    "sol"
   ]
  },
  {
   "cell_type": "code",
   "execution_count": 12,
   "metadata": {},
   "outputs": [
    {
     "data": {
      "text/plain": [
       "Text(0.5, 1.0, 'Concentration Profile')"
      ]
     },
     "execution_count": 12,
     "metadata": {},
     "output_type": "execute_result"
    },
    {
     "data": {
      "image/png": "[encoded data removed]",
      "text/plain": [
       "<Figure size 432x288 with 1 Axes>"
      ]
     },
     "metadata": {
      "needs_background": "light"
     },
     "output_type": "display_data"
    }
   ],
   "source": [
    "#plt.rcParams['figure.figsize'] = [10, 10]\n",
    "plt.plot(tspan, sol[:,0], 'crimson')\n",
    "plt.plot(tspan, sol[:,1], 'deepskyblue')\n",
    "plt.plot(tspan, sol[:,2], 'lightpink')\n",
    "plt.plot(tspan, sol[:,3], 'mediumseagreen')\n",
    "plt.xlabel('Time (s)')\n",
    "plt.ylabel('Concentration (mol/m^3)')\n",
    "plt.legend(['La', 'Nd', 'EDTA', 'H'])\n",
    "plt.title(('Concentration Profile'))\n"
   ]
  },
  {
   "cell_type": "markdown",
   "metadata": {},
   "source": [
    "__Computed Separation Factor__"
   ]
  },
  {
   "cell_type": "markdown",
   "metadata": {},
   "source": [
    "Takahashi _et al._ calculated separation factor by simply dividing the flux of the REE with higher permeation over the lower permeation REE (e.g. it would be $S_{J_M/J_{RE}} = \\frac{J_{La}}{J_{Nd}}$ or $S_{J_{Nd}/J_{Gd}} = \\frac{J_{Nd}}{J_Gd}$, $S_{J_{Nd}/J_{Y}} = \\frac{J_{Nd}}{J_Y}$\n",
    "\n",
    "Do we proceed to assume the membrane flux is the one we use in equations 19-20?"
   ]
  },
  {
   "cell_type": "markdown",
   "metadata": {},
   "source": [
    "$S_{J_M/J_{RE}} = \\frac{J_{La}}{J_{Nd}}$"
   ]
  },
  {
   "cell_type": "code",
   "execution_count": 13,
   "metadata": {},
   "outputs": [
    {
     "name": "stdout",
     "output_type": "stream",
     "text": [
      "Separation Factor of La over Nd = \u001b[3;37;40m1.9558742200714123\n"
     ]
    }
   ],
   "source": [
    "J_La = sol[99][0]\n",
    "J_Nd = sol[99][1]\n",
    "\n",
    "S_La_Nd = (J_La/surface_area*V)/(J_Nd/surface_area*V)\n",
    "print(\"Separation Factor of La over Nd = \" + \"\\033[3;37;40m\" + str(S_La_Nd))"
   ]
  },
  {
   "cell_type": "code",
   "execution_count": null,
   "metadata": {},
   "outputs": [],
   "source": []
  },
  {
   "cell_type": "markdown",
   "metadata": {},
   "source": [
    "### From (1) Takahashi et al. (1993) Reference. SEPARATION OF LIGHT RARE-EARTH ELEMENTS FROM RARE-EARTH MIXTURE SOLUTION BY USE OF ELECTRODIALYSIS WITH COMPLEXING AGENTS.\n",
    "\n",
    "### Attempting to solve the following DE for the REE ions $La^{3+}$ and $Nd^{3+}$:\n",
    "\n",
    "![](diff_eqn_16.png \"picture\")"
   ]
  },
  {
   "cell_type": "markdown",
   "metadata": {},
   "source": [
    "#### Solving Takahashi Model Equations 2-6 Simultaneously\n",
    "\n",
    "<code>From their paper:</code>\n",
    "\n",
    "<img src=\"takahashi_26.png\" width=\"600\">"
   ]
  },
  {
   "cell_type": "markdown",
   "metadata": {},
   "source": [
    "#### Solving Takahashi Model Equations 7-9 Simultaneously\n",
    "\n",
    "<img src=\"takahashi_eq79.PNG\" width=\"600\">"
   ]
  },
  {
   "cell_type": "markdown",
   "metadata": {},
   "source": [
    "Notes: three equations version appears to be better, odeint better than solve_ivp. Still need to figure out how to generate good guess values."
   ]
  },
  {
   "cell_type": "markdown",
   "metadata": {},
   "source": [
    "<img src=\"state_machine_takahashi.PNG\" width=\"750\">"
   ]
  }
 ],
 "metadata": {
  "kernelspec": {
   "display_name": "Python 3",
   "language": "python",
   "name": "python3"
  },
  "language_info": {
   "codemirror_mode": {
    "name": "ipython",
    "version": 3
   },
   "file_extension": ".py",
   "mimetype": "text/x-python",
   "name": "python",
   "nbconvert_exporter": "python",
   "pygments_lexer": "ipython3",
   "version": "3.6.5"
  }
 },
 "nbformat": 4,
 "nbformat_minor": 4
}
