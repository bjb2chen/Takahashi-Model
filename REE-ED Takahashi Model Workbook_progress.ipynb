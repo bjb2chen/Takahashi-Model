{
 "cells": [
  {
   "cell_type": "markdown",
   "metadata": {},
   "source": [
    "# Takahashi Model Emulation (Python Implementation)"
   ]
  },
  {
   "cell_type": "markdown",
   "metadata": {},
   "source": [
    "## From (1) Takahashi et al. (1993) Reference. SEPARATION OF LIGHT RARE-EARTH ELEMENTS FROM RARE-EARTH MIXTURE SOLUTION BY USE OF ELECTRODIALYSIS WITH COMPLEXING AGENTS."
   ]
  },
  {
   "cell_type": "markdown",
   "metadata": {},
   "source": [
    "### Attempting to solve the following DE for the REE ions $La^{3+}$ and $Nd^{3+}$:"
   ]
  },
  {
   "cell_type": "markdown",
   "metadata": {},
   "source": [
    "![](diff_eqn_16.png \"picture\")"
   ]
  },
  {
   "cell_type": "markdown",
   "metadata": {},
   "source": [
    "__Subscripts: F = feed solution, i = ion species, s = strip solution (aka concentrate solution)__"
   ]
  },
  {
   "cell_type": "markdown",
   "metadata": {},
   "source": [
    "__Bar notation == in membrane__"
   ]
  },
  {
   "cell_type": "markdown",
   "metadata": {},
   "source": [
    "__V = volume, C = concentration, S = surface area, J = flux in membrane, z = valence, D = diffusion coefficient, F = Faraday constant, I = current density__ "
   ]
  },
  {
   "cell_type": "code",
   "execution_count": 1,
   "metadata": {},
   "outputs": [],
   "source": [
    "import numpy as np\n",
    "import pandas as pd\n",
    "from scipy.integrate import solve_ivp\n",
    "from scipy.optimize import *\n",
    "import matplotlib.pyplot as plt\n",
    "%matplotlib inline\n",
    "np.seterr(divide='ignore');"
   ]
  },
  {
   "cell_type": "markdown",
   "metadata": {},
   "source": [
    "<code>Sample initial parameters:</code>\n",
    "\n",
    "$\n",
    "\\begin{align}\n",
    "La^{3+} = Nd^{3+} = 10~mol/m^3, && EDTA:REE = 0.5, && pH = 3, && Q = 100~mol/m^3\n",
    "\\end{align}\n",
    "$\n"
   ]
  },
  {
   "cell_type": "code",
   "execution_count": 2,
   "metadata": {},
   "outputs": [
    {
     "name": "stdout",
     "output_type": "stream",
     "text": [
      "Please input the initial parameters for a binary La/Nd w/ EDTA separation: \n"
     ]
    },
    {
     "name": "stdin",
     "output_type": "stream",
     "text": [
      "La and Nd initial concentration (mol/m^3):  10\n",
      "EDTA to REE Ratio (0 to 1.0):  0.5\n",
      "Initial pH:  3\n",
      "Ion exchange capacity (mol/m^3):  100\n"
     ]
    }
   ],
   "source": [
    "print('Please input the initial parameters for a binary La/Nd w/ EDTA separation: ')\n",
    "\n",
    "REE_conc = float(input('La and Nd initial concentration (mol/m^3): '))\n",
    "EDTA_ratio = float(input('EDTA to REE Ratio (0 to 1.0): '))\n",
    "pH = float(input('Initial pH: '))\n",
    "Q = float(input('Ion exchange capacity (mol/m^3): '))\n"
   ]
  },
  {
   "cell_type": "code",
   "execution_count": 26,
   "metadata": {},
   "outputs": [],
   "source": [
    "initial_concs = [REE_conc, REE_conc, REE_conc*EDTA_ratio, 10**-pH, Q]\n",
    "\n",
    "C_La_i = initial_concs[0]\n",
    "C_Nd_i = initial_concs[1]\n",
    "C_Na_i = initial_concs[2]\n",
    "C_H_i = initial_concs[3]\n",
    "Q = initial_concs[4]\n",
    "    \n",
    "\n",
    "def eq_79(mem_guess):\n",
    "\n",
    "    C_La_mem = mem_guess[0]\n",
    "    C_Nd_mem = mem_guess[1]\n",
    "    C_Na_mem = mem_guess[2]\n",
    "    C_H_mem = mem_guess[3]\n",
    "    \n",
    "    solution = np.zeros(4) # 4 equations to solve\n",
    "    \n",
    "    solution[0] = C_La_mem - (1.49 * np.power(C_H_mem, 3) * (C_La_i/(np.power(C_H_i,3)))**0.8)\n",
    "    solution[1] = C_Nd_mem - (1.15 * np.power(C_H_mem, 3) * (C_Nd_i/(np.power(C_H_i,3)))**0.8)\n",
    "    solution[2] = C_Na_mem - (0.32 * C_H_mem * (C_Na_i/C_H_i))\n",
    "    solution[3] = Q - (3 * (C_La_mem+C_Nd_mem) + C_Na_mem + C_H_mem)\n",
    "    \n",
    "    return solution\n"
   ]
  },
  {
   "cell_type": "code",
   "execution_count": 27,
   "metadata": {},
   "outputs": [
    {
     "name": "stdout",
     "output_type": "stream",
     "text": [
      "[1.73425316e+01 1.33851753e+01 7.81199681e+00 4.88249801e-03]\n"
     ]
    }
   ],
   "source": [
    "sample_guess = np.array([17.3, 13.4, 7.81, 0.00488])\n",
    "sample_guess2 = np.array([1,1,1,1]) # estimate membrane values\n",
    "eq_79_sol = fsolve(eq_79, sample_guess2)\n",
    "print(eq_79_sol)"
   ]
  },
  {
   "cell_type": "code",
   "execution_count": 28,
   "metadata": {},
   "outputs": [],
   "source": [
    "#List of constant values.\n",
    "surface_area = 0.005 \n",
    "valence = 3\n",
    "D_La = 4.4e13\n",
    "D_Nd = 5.2e13\n",
    "D_Na = 1.9e15\n",
    "D_H = 1.1e16\n",
    "\n",
    "C_La_mem0 = eq_79_sol[0] \n",
    "C_Nd_mem0 = eq_79_sol[1] \n",
    "C_Na_mem0 = eq_79_sol[2]\n",
    "C_H_mem0 = eq_79_sol[3]\n",
    "\n",
    "K_H_La = 1.49\n",
    "K_H_Nd = 1.15\n",
    "K_H_Na = 0.32\n",
    "\n",
    "#J_Na = D_Na*C_Na_mem0\n",
    "#J_H = D_H*C_H_mem0\n",
    "I = 20\n",
    "F = 96485\n",
    "V = 0.00125\n",
    "\n",
    "# IVP parameters\n",
    "tspan = [0, 100000]\n",
    "y0 = [C_La_mem0, C_Nd_mem0, C_Na_mem0, C_H_mem0]\n"
   ]
  },
  {
   "cell_type": "code",
   "execution_count": 29,
   "metadata": {},
   "outputs": [],
   "source": [
    "# Dynamics function\n",
    "def RKG_Takahashi(t, z):\n",
    "    '''\n",
    "        z[0] = C_La\n",
    "        z[1] = C_Nd\n",
    "        z[2] = C_Na\n",
    "        z[3] = C_H\n",
    "        \n",
    "        f1 = dC_La/dt\n",
    "        f2 = dC_Nd/dt\n",
    "        f3 = dC_Na/dt\n",
    "        f4 = dC_H/dt\n",
    "        \n",
    "        ** Need to convert f5-f8 into an array**\n",
    "    '''\n",
    "    ## solve the equations 7-9 simultaneously here prior to the four DEs\n",
    "    \n",
    "    C_La_mem, C_Nd_mem, C_Na_mem, C_H_mem = z # initial values\n",
    "    \n",
    "    f1 = surface_area * ((valence * D_La * C_La_mem) / (valence**2 * D_La * C_La_mem + valence**2 * D_Nd * C_Nd_mem + D_Na * C_Na_mem + D_H * C_H_mem)) * I/F * 1/-V\n",
    "    f2 = surface_area * ((valence * D_Nd * C_Nd_mem) / (valence**2 * D_Nd * C_Nd_mem + valence**2 * D_La * C_La_mem + D_Na * C_Na_mem + D_H * C_H_mem)) * I/F * 1/-V\n",
    "    f3 = surface_area * ((D_Na * C_Na_mem) / (valence**2 * D_La * C_La_mem + valence**2 * D_Nd * C_Nd_mem + D_Na * C_Na_mem + D_H * C_H_mem)) * I/F * 1/-V\n",
    "    f4 = surface_area * ((D_H * C_H_mem) / (valence**2 * D_La * C_La_mem + valence**2 * D_Nd * C_Nd_mem + D_Na * C_Na_mem + D_H * C_H_mem)) * I/F * 1/-V\n",
    "     \n",
    "    return [f1, f2, f3, f4]"
   ]
  },
  {
   "cell_type": "code",
   "execution_count": 30,
   "metadata": {},
   "outputs": [],
   "source": [
    "sol = solve_ivp(RKG_Takahashi, tspan, y0, method='RK45', t_eval = np.linspace(0, 21600, 30))"
   ]
  },
  {
   "cell_type": "code",
   "execution_count": 31,
   "metadata": {},
   "outputs": [
    {
     "data": {
      "text/plain": [
       "scipy.integrate._ivp.ivp.OdeResult"
      ]
     },
     "execution_count": 31,
     "metadata": {},
     "output_type": "execute_result"
    }
   ],
   "source": [
    "type(sol)"
   ]
  },
  {
   "cell_type": "code",
   "execution_count": 32,
   "metadata": {},
   "outputs": [
    {
     "data": {
      "text/plain": [
       "  message: 'The solver successfully reached the end of the integration interval.'\n",
       "     nfev: 362\n",
       "     njev: 0\n",
       "      nlu: 0\n",
       "      sol: None\n",
       "   status: 0\n",
       "  success: True\n",
       "        t: array([    0.        ,   744.82758621,  1489.65517241,  2234.48275862,\n",
       "        2979.31034483,  3724.13793103,  4468.96551724,  5213.79310345,\n",
       "        5958.62068966,  6703.44827586,  7448.27586207,  8193.10344828,\n",
       "        8937.93103448,  9682.75862069, 10427.5862069 , 11172.4137931 ,\n",
       "       11917.24137931, 12662.06896552, 13406.89655172, 14151.72413793,\n",
       "       14896.55172414, 15641.37931034, 16386.20689655, 17131.03448276,\n",
       "       17875.86206897, 18620.68965517, 19365.51724138, 20110.34482759,\n",
       "       20855.17241379, 21600.        ])\n",
       " t_events: None\n",
       "        y: array([[ 1.73425316e+01,  1.72915527e+01,  1.72394789e+01,\n",
       "         1.71862841e+01,  1.71319418e+01,  1.70764260e+01,\n",
       "         1.70197106e+01,  1.69617688e+01,  1.69025744e+01,\n",
       "         1.68421023e+01,  1.67803281e+01,  1.67172276e+01,\n",
       "         1.66527782e+01,  1.65869594e+01,  1.65197517e+01,\n",
       "         1.64511377e+01,  1.63811022e+01,  1.63096329e+01,\n",
       "         1.62367202e+01,  1.61623569e+01,  1.60865393e+01,\n",
       "         1.60092674e+01,  1.59305448e+01,  1.58503783e+01,\n",
       "         1.57687785e+01,  1.56857597e+01,  1.56013408e+01,\n",
       "         1.55155445e+01,  1.54283965e+01,  1.53399252e+01],\n",
       "       [ 1.33851753e+01,  1.33386878e+01,  1.32912276e+01,\n",
       "         1.32427725e+01,  1.31933004e+01,  1.31427894e+01,\n",
       "         1.30912178e+01,  1.30385632e+01,  1.29848041e+01,\n",
       "         1.29299200e+01,  1.28738910e+01,  1.28166978e+01,\n",
       "         1.27583226e+01,  1.26987493e+01,  1.26379633e+01,\n",
       "         1.25759517e+01,  1.25127039e+01,  1.24482120e+01,\n",
       "         1.23824704e+01,  1.23154762e+01,  1.22472295e+01,\n",
       "         1.21777338e+01,  1.21069962e+01,  1.20350264e+01,\n",
       "         1.19618377e+01,  1.18874471e+01,  1.18118751e+01,\n",
       "         1.17351463e+01,  1.16572875e+01,  1.15783282e+01],\n",
       "       [ 7.81199681e+00,  7.48788869e+00,  7.16977243e+00,\n",
       "         6.85782776e+00,  6.55223097e+00,  6.25315744e+00,\n",
       "         5.96077679e+00,  5.67524962e+00,  5.39673270e+00,\n",
       "         5.12537857e+00,  4.86133220e+00,  4.60472867e+00,\n",
       "         4.35569476e+00,  4.11434808e+00,  3.88079453e+00,\n",
       "         3.65512708e+00,  3.43742466e+00,  3.22775130e+00,\n",
       "         3.02615432e+00,  2.83266404e+00,  2.64729140e+00,\n",
       "         2.47002707e+00,  2.30084063e+00,  2.13968141e+00,\n",
       "         1.98647833e+00,  1.84113712e+00,  1.70354026e+00,\n",
       "         1.57354658e+00,  1.45099781e+00,  1.33572026e+00],\n",
       "       [ 4.88249801e-03,  3.82026682e-03,  2.96866755e-03,\n",
       "         2.29345642e-03,  1.76406180e-03,  1.34816954e-03,\n",
       "         1.02012849e-03,  7.66999784e-04,  5.74795971e-04,\n",
       "         4.27800817e-04,  3.14156011e-04,  2.29160328e-04,\n",
       "         1.66961272e-04,  1.20608085e-04,  8.54914174e-05,\n",
       "         6.02681625e-05,  4.27715400e-05,  3.00434658e-05,\n",
       "         2.03261036e-05,  1.36666332e-05,  9.53761257e-06,\n",
       "         6.81693018e-06,  4.36411248e-06,  2.57110025e-06,\n",
       "         1.63505236e-06,  1.36937103e-06,  1.21289458e-06,\n",
       "         6.28374858e-07,  8.14426673e-08, -1.30204674e-07]])\n",
       " y_events: None"
      ]
     },
     "execution_count": 32,
     "metadata": {},
     "output_type": "execute_result"
    }
   ],
   "source": [
    "sol"
   ]
  },
  {
   "cell_type": "code",
   "execution_count": 33,
   "metadata": {},
   "outputs": [
    {
     "data": {
      "image/png": "[encoded data removed]",
      "text/plain": [
       "<Figure size 432x288 with 1 Axes>"
      ]
     },
     "metadata": {
      "needs_background": "light"
     },
     "output_type": "display_data"
    }
   ],
   "source": [
    "# La solution\n",
    "plt.plot(sol.t, sol.y[0], 'crimson');\n",
    "plt.title('Comparison of La over time')\n",
    "plt.xlabel('Time (min)')\n",
    "plt.ylabel('Concentration of La (mol/m^3)');"
   ]
  },
  {
   "cell_type": "code",
   "execution_count": 34,
   "metadata": {},
   "outputs": [
    {
     "data": {
      "image/png": "[encoded data removed]",
      "text/plain": [
       "<Figure size 432x288 with 1 Axes>"
      ]
     },
     "metadata": {
      "needs_background": "light"
     },
     "output_type": "display_data"
    }
   ],
   "source": [
    "# Nd Solution\n",
    "plt.plot(sol.t, sol.y[1], color='deepskyblue');\n",
    "plt.title('Comparison of Nd over time')\n",
    "plt.xlabel('Time (min)')\n",
    "plt.ylabel('Concentration of Nd (mol/m^3)');"
   ]
  },
  {
   "cell_type": "code",
   "execution_count": 35,
   "metadata": {},
   "outputs": [
    {
     "data": {
      "image/png": "[encoded data removed]",
      "text/plain": [
       "<Figure size 432x288 with 1 Axes>"
      ]
     },
     "metadata": {
      "needs_background": "light"
     },
     "output_type": "display_data"
    }
   ],
   "source": [
    "# Na Solution\n",
    "plt.plot(sol.t, sol.y[2], color='lightpink');\n",
    "plt.title('Comparison of Na over time')\n",
    "plt.xlabel('Time (min)')\n",
    "plt.ylabel('Concentration of Na (mol/m^3)');"
   ]
  },
  {
   "cell_type": "code",
   "execution_count": 36,
   "metadata": {},
   "outputs": [
    {
     "data": {
      "image/png": "[encoded data removed]",
      "text/plain": [
       "<Figure size 432x288 with 1 Axes>"
      ]
     },
     "metadata": {
      "needs_background": "light"
     },
     "output_type": "display_data"
    }
   ],
   "source": [
    "# H Solution\n",
    "plt.plot(sol.t, sol.y[3], color='mediumseagreen');\n",
    "plt.title('Comparison of H over time')\n",
    "plt.xlabel('Time (min)')\n",
    "plt.ylabel('Concentration of H (mol/m^3)');"
   ]
  },
  {
   "cell_type": "markdown",
   "metadata": {},
   "source": [
    "![](model_pdf.PNG \"picture\")"
   ]
  }
 ],
 "metadata": {
  "kernelspec": {
   "display_name": "Anaconda 3.2020.02",
   "language": "python",
   "name": "uw-anaconda-3-2020-02"
  },
  "language_info": {
   "codemirror_mode": {
    "name": "ipython",
    "version": 3
   },
   "file_extension": ".py",
   "mimetype": "text/x-python",
   "name": "python",
   "nbconvert_exporter": "python",
   "pygments_lexer": "ipython3",
   "version": "3.7.6"
  }
 },
 "nbformat": 4,
 "nbformat_minor": 4
}
