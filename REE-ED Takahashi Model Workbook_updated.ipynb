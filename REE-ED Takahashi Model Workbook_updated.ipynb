{
 "cells": [
  {
   "cell_type": "markdown",
   "metadata": {},
   "source": [
    "# Takahashi Model Emulation (Python Implementation)"
   ]
  },
  {
   "cell_type": "markdown",
   "metadata": {},
   "source": [
    "<p style=\"color:crimson;\"> To start using this notebook, please press the double <code>>></code> button. </p> "
   ]
  },
  {
   "cell_type": "markdown",
   "metadata": {},
   "source": [
    "## From (1) Takahashi et al. (1993) Reference. SEPARATION OF LIGHT RARE-EARTH ELEMENTS FROM RARE-EARTH MIXTURE SOLUTION BY USE OF ELECTRODIALYSIS WITH COMPLEXING AGENTS."
   ]
  },
  {
   "cell_type": "markdown",
   "metadata": {},
   "source": [
    "### Attempting to solve the following DE for the REE ions $La^{3+}$ and $Nd^{3+}$:"
   ]
  },
  {
   "cell_type": "markdown",
   "metadata": {},
   "source": [
    "![](diff_eqn_16.png \"picture\")"
   ]
  },
  {
   "cell_type": "markdown",
   "metadata": {},
   "source": [
    "__Subscripts: F = feed solution, i = ion species, s = strip solution (aka concentrate solution)__"
   ]
  },
  {
   "cell_type": "markdown",
   "metadata": {},
   "source": [
    "__Bar notation == in membrane__"
   ]
  },
  {
   "cell_type": "markdown",
   "metadata": {},
   "source": [
    "__V = volume, C = concentration, S = surface area, J = flux in membrane, z = valence, D = diffusion coefficient, F = Faraday constant, I = current density__ "
   ]
  },
  {
   "cell_type": "code",
   "execution_count": 1,
   "metadata": {},
   "outputs": [],
   "source": [
    "import numpy as np\n",
    "import pandas as pd\n",
    "from scipy.integrate import solve_ivp\n",
    "from scipy.optimize import *\n",
    "import matplotlib.pyplot as plt\n",
    "%matplotlib inline\n",
    "np.seterr(divide='ignore');"
   ]
  },
  {
   "cell_type": "markdown",
   "metadata": {},
   "source": [
    "<code>Sample initial parameters:</code>\n",
    "\n",
    "$\n",
    "\\begin{align}\n",
    "La^{3+} = Nd^{3+} = 10~mol/m^3, && EDTA:REE = 0.5, && pH = 3, && Q = 30~mol/m^3\n",
    "\\end{align}\n",
    "$\n"
   ]
  },
  {
   "cell_type": "code",
   "execution_count": 2,
   "metadata": {},
   "outputs": [
    {
     "name": "stdout",
     "output_type": "stream",
     "text": [
      "Please input the initial parameters for a binary La/Nd w/ EDTA separation: \n",
      "La and Nd initial concentration (mol/m^3): 10\n",
      "EDTA to REE Ratio (0 to 1.0): 0.5\n",
      "Initial pH: 3\n",
      "Ion exchange capacity (mol/m^3): 30\n"
     ]
    }
   ],
   "source": [
    "print('Please input the initial parameters for a binary La/Nd w/ EDTA separation: ')\n",
    "\n",
    "REE_conc = float(input('La and Nd initial concentration (mol/m^3): '))\n",
    "EDTA_ratio = float(input('EDTA to REE Ratio (0 to 1.0): '))\n",
    "pH = float(input('Initial pH: '))\n",
    "Q = float(input('Ion exchange capacity (mol/m^3): '))\n"
   ]
  },
  {
   "cell_type": "code",
   "execution_count": 3,
   "metadata": {},
   "outputs": [],
   "source": [
    "initial_concs = [REE_conc, REE_conc, REE_conc*EDTA_ratio, 10**-pH, Q]\n",
    "\n",
    "C_La_i = initial_concs[0]\n",
    "C_Nd_i = initial_concs[1]\n",
    "C_Na_i = initial_concs[2]\n",
    "C_H_i = initial_concs[3]\n",
    "Q = initial_concs[4]\n",
    "\n",
    "def eq_26(guess_26):\n",
    "    \n",
    "    a = guess_26[0] #C_La\n",
    "    b = guess_26[1] #C_LaEDTA\n",
    "    c = guess_26[2] #C_Nd\n",
    "    d = guess_26[3] #C_NdEDTA\n",
    "    e = guess_26[4] #C_EDTA_nc\n",
    "    f = guess_26[5] #C_EDTA\n",
    "    g = guess_26[6] #C_H\n",
    "    \n",
    "    \n",
    "    K_La_abs = np.power(10, 15.50)\n",
    "    K_Nd_abs = np.power(10, 16.61)\n",
    "    \n",
    "    k1 = np.power(10, -2.00)\n",
    "    k2 = np.power(10, -2.67)\n",
    "    k3 = np.power(10, -6.16)\n",
    "    k4 = np.power(10, -10.26)\n",
    "    \n",
    "    #alpha = (k1*k2*k3*k4)/(k1*k2*k3*k4 + \\\n",
    "    #                       k1*k2*k3*C_H_i + \\\n",
    "    #                       k1*k2*np.power(C_H_i, 2) + \\\n",
    "    #                       k1*np.power(C_H_i, 3) + \\\n",
    "    #                       np.power(C_H_i, 4))\n",
    "    \n",
    "    \n",
    "    solution = np.zeros(7)\n",
    "    \n",
    "    solution[0] = a - (b/(K_La_abs*f))\n",
    "    solution[1] = c - (d/(K_Nd_abs*f))\n",
    "    solution[2] = C_La_i - (a + b)\n",
    "    solution[3] = C_Nd_i - (c + d)\n",
    "    solution[4] = C_Na_i - ((a + c) + e)\n",
    "    solution[5] = f - (g*e)\n",
    "    solution[6] = g - ((k1*k2*k3*k4)/(k1*k2*k3*k4 + \\\n",
    "                                      k1*k2*k3*C_H_i + \\\n",
    "                                      k1*k2*np.power(C_H_i, 2) + \\\n",
    "                                      k1*np.power(C_H_i, 3) + \\\n",
    "                                      np.power(C_H_i, 4)))\n",
    "    \n",
    "    return solution"
   ]
  },
  {
   "cell_type": "code",
   "execution_count": 4,
   "metadata": {},
   "outputs": [
    {
     "name": "stdout",
     "output_type": "stream",
     "text": [
      "[2.52058508e-05 9.99997479e+00 1.95660145e-06 9.99999804e+00\n",
      " 4.99997284e+00 1.25457764e-10 2.50916892e-11]\n"
     ]
    }
   ],
   "source": [
    "guess1 = np.array([10,0,0,10,0,10,0])\n",
    "\n",
    "eq_26_sol = fsolve(eq_26, guess1)\n",
    "print(eq_26_sol)"
   ]
  },
  {
   "cell_type": "code",
   "execution_count": 5,
   "metadata": {},
   "outputs": [],
   "source": [
    "C_La_computed = eq_26_sol[0]\n",
    "C_Nd_computed = eq_26_sol[2]\n",
    "\n",
    "def eq_79(mem_guess):\n",
    "\n",
    "    C_La_mem = mem_guess[0]\n",
    "    C_Nd_mem = mem_guess[1]\n",
    "    C_Na_mem = mem_guess[2]\n",
    "    C_H_mem = mem_guess[3]\n",
    "    \n",
    "    solution = np.zeros(4) # 4 equations to solve\n",
    "    \n",
    "    solution[0] = C_La_mem - (1.49 * np.power(C_H_mem, 3) * (C_La_computed/(np.power(C_H_i,3)))**0.8)\n",
    "    solution[1] = C_Nd_mem - (1.15 * np.power(C_H_mem, 3) * (C_Nd_computed/(np.power(C_H_i,3)))**0.8)\n",
    "    solution[2] = C_Na_mem - (0.32 * C_H_mem * (C_Na_i/C_H_i))\n",
    "    solution[3] = Q - (3 * (C_La_mem+C_Nd_mem) + C_Na_mem + C_H_mem)\n",
    "    \n",
    "    return solution"
   ]
  },
  {
   "cell_type": "code",
   "execution_count": 6,
   "metadata": {},
   "outputs": [
    {
     "name": "stdout",
     "output_type": "stream",
     "text": [
      "[3.22072431e-02 3.21711015e-03 2.98750550e+01 1.86719094e-02]\n"
     ]
    }
   ],
   "source": [
    "sample_guess = np.array([17.3, 13.4, 7.81, 0.00488])\n",
    "sample_guess2 = np.array([1,1,1,1]) # estimate membrane values\n",
    "\n",
    "eq_79_sol = fsolve(eq_79, sample_guess2)\n",
    "print(eq_79_sol)"
   ]
  },
  {
   "cell_type": "code",
   "execution_count": 7,
   "metadata": {},
   "outputs": [],
   "source": [
    "#List of constant values.\n",
    "surface_area = 0.005 \n",
    "valence = 3\n",
    "D_La = 4.4e13\n",
    "D_Nd = 5.2e13\n",
    "D_Na = 1.9e15\n",
    "D_H = 1.1e16\n",
    "\n",
    "C_La_mem0 = eq_79_sol[0] \n",
    "C_Nd_mem0 = eq_79_sol[1] \n",
    "C_Na_mem0 = eq_79_sol[2]\n",
    "C_H_mem0 = eq_79_sol[3]\n",
    "\n",
    "K_H_La = 1.49\n",
    "K_H_Nd = 1.15\n",
    "K_H_Na = 0.32\n",
    "\n",
    "#J_Na = D_Na*C_Na_mem0\n",
    "#J_H = D_H*C_H_mem0\n",
    "I = 20\n",
    "F = 96485\n",
    "V = 0.00125\n",
    "\n",
    "# IVP parameters\n",
    "tspan = [0, 21600]\n",
    "y0 = [C_La_mem0, C_Nd_mem0, C_Na_mem0, C_H_mem0]\n"
   ]
  },
  {
   "cell_type": "code",
   "execution_count": 8,
   "metadata": {},
   "outputs": [],
   "source": [
    "# Dynamics function\n",
    "def RKG_Takahashi(t, z):\n",
    "    '''\n",
    "        z[0] = C_La\n",
    "        z[1] = C_Nd\n",
    "        z[2] = C_Na\n",
    "        z[3] = C_H\n",
    "        \n",
    "        f1 = dC_La/dt\n",
    "        f2 = dC_Nd/dt\n",
    "        f3 = dC_Na/dt\n",
    "        f4 = dC_H/dt\n",
    "        \n",
    "        ** Need to convert f5-f8 into an array**\n",
    "    '''\n",
    "    ## solve the equations 7-9 simultaneously here prior to the four DEs\n",
    "    \n",
    "    C_La_mem, C_Nd_mem, C_Na_mem, C_H_mem = z # initial values\n",
    "    \n",
    "    \n",
    "    \n",
    "    f1 = surface_area * ((valence * D_La * C_La_mem) / (valence**2 * D_La * C_La_mem + valence**2 * D_Nd * C_Nd_mem + D_Na * C_Na_mem + D_H * C_H_mem)) * I/F * 1/-V\n",
    "    f2 = surface_area * ((valence * D_Nd * C_Nd_mem) / (valence**2 * D_Nd * C_Nd_mem + valence**2 * D_La * C_La_mem + D_Na * C_Na_mem + D_H * C_H_mem)) * I/F * 1/-V\n",
    "    f3 = surface_area * ((D_Na * C_Na_mem) / (valence**2 * D_La * C_La_mem + valence**2 * D_Nd * C_Nd_mem + D_Na * C_Na_mem + D_H * C_H_mem)) * I/F * 1/-V\n",
    "    f4 = surface_area * ((D_H * C_H_mem) / (valence**2 * D_La * C_La_mem + valence**2 * D_Nd * C_Nd_mem + D_Na * C_Na_mem + D_H * C_H_mem)) * I/F * 1/-V\n",
    "     \n",
    "    return [f1, f2, f3, f4]"
   ]
  },
  {
   "cell_type": "code",
   "execution_count": 9,
   "metadata": {},
   "outputs": [],
   "source": [
    "sol = solve_ivp(RKG_Takahashi, tspan, y0, method='RK45', t_eval = np.linspace(0, 21600, 30))"
   ]
  },
  {
   "cell_type": "code",
   "execution_count": 10,
   "metadata": {},
   "outputs": [
    {
     "data": {
      "text/plain": [
       "scipy.integrate._ivp.ivp.OdeResult"
      ]
     },
     "execution_count": 10,
     "metadata": {},
     "output_type": "execute_result"
    }
   ],
   "source": [
    "type(sol)"
   ]
  },
  {
   "cell_type": "code",
   "execution_count": 11,
   "metadata": {},
   "outputs": [
    {
     "data": {
      "text/plain": [
       "  message: 'The solver successfully reached the end of the integration interval.'\n",
       "     nfev: 74\n",
       "     njev: 0\n",
       "      nlu: 0\n",
       "      sol: None\n",
       "   status: 0\n",
       "  success: True\n",
       "        t: array([    0.        ,   744.82758621,  1489.65517241,  2234.48275862,\n",
       "        2979.31034483,  3724.13793103,  4468.96551724,  5213.79310345,\n",
       "        5958.62068966,  6703.44827586,  7448.27586207,  8193.10344828,\n",
       "        8937.93103448,  9682.75862069, 10427.5862069 , 11172.4137931 ,\n",
       "       11917.24137931, 12662.06896552, 13406.89655172, 14151.72413793,\n",
       "       14896.55172414, 15641.37931034, 16386.20689655, 17131.03448276,\n",
       "       17875.86206897, 18620.68965517, 19365.51724138, 20110.34482759,\n",
       "       20855.17241379, 21600.        ])\n",
       " t_events: None\n",
       "        y: array([[3.22072431e-02, 3.21607118e-02, 3.21132453e-02, 3.20648057e-02,\n",
       "        3.20153523e-02, 3.19648412e-02, 3.19132253e-02, 3.18604547e-02,\n",
       "        3.18064761e-02, 3.17512329e-02, 3.16946626e-02, 3.16366989e-02,\n",
       "        3.15772695e-02, 3.15162959e-02, 3.14536930e-02, 3.13893694e-02,\n",
       "        3.13232254e-02, 3.12551516e-02, 3.11850288e-02, 3.11127242e-02,\n",
       "        3.10380923e-02, 3.09609737e-02, 3.08811902e-02, 3.07985470e-02,\n",
       "        3.07128226e-02, 3.06237660e-02, 3.05310964e-02, 3.04345008e-02,\n",
       "        3.03336170e-02, 3.02280297e-02],\n",
       "       [3.21711015e-03, 3.21161789e-03, 3.20601674e-03, 3.20030231e-03,\n",
       "        3.19446989e-03, 3.18851441e-03, 3.18243046e-03, 3.17621225e-03,\n",
       "        3.16985363e-03, 3.16334807e-03, 3.15668836e-03, 3.14986686e-03,\n",
       "        3.14287522e-03, 3.13570440e-03, 3.12834459e-03, 3.12078527e-03,\n",
       "        3.11301494e-03, 3.10502103e-03, 3.09678980e-03, 3.08830601e-03,\n",
       "        3.07955289e-03, 3.07051215e-03, 3.06116330e-03, 3.05148399e-03,\n",
       "        3.04144878e-03, 3.03102889e-03, 3.02019212e-03, 3.00890261e-03,\n",
       "        2.99711888e-03, 2.98479338e-03],\n",
       "       [2.98750550e+01, 2.92597609e+01, 2.86442704e+01, 2.80285985e+01,\n",
       "        2.74127557e+01, 2.67967538e+01, 2.61806059e+01, 2.55643259e+01,\n",
       "        2.49479294e+01, 2.43314319e+01, 2.37148411e+01, 2.30981625e+01,\n",
       "        2.24814035e+01, 2.18645720e+01, 2.12476772e+01, 2.06307292e+01,\n",
       "        2.00137361e+01, 1.93967012e+01, 1.87796289e+01, 1.81625243e+01,\n",
       "        1.75453934e+01, 1.69282430e+01, 1.63110776e+01, 1.56938990e+01,\n",
       "        1.50767096e+01, 1.44595132e+01, 1.38423149e+01, 1.32251199e+01,\n",
       "        1.26079293e+01, 1.19907458e+01],\n",
       "       [1.86719094e-02, 1.65525077e-02, 1.46325048e-02, 1.28972616e-02,\n",
       "        1.13362793e-02, 9.93790300e-03, 8.68932183e-03, 7.57656880e-03,\n",
       "        6.58452088e-03, 5.69759308e-03, 4.90845492e-03, 4.21171589e-03,\n",
       "        3.60040880e-03, 3.06665609e-03, 2.60166980e-03, 2.19575162e-03,\n",
       "        1.84095270e-03, 1.53435473e-03, 1.27205873e-03, 1.04936728e-03,\n",
       "        8.60789015e-04, 7.00095805e-04, 5.63196503e-04, 4.49170653e-04,\n",
       "        3.56228534e-04, 2.81398300e-04, 2.20525981e-04, 1.69527453e-04,\n",
       "        1.28545307e-04, 9.61583929e-05]])\n",
       " y_events: None"
      ]
     },
     "execution_count": 11,
     "metadata": {},
     "output_type": "execute_result"
    }
   ],
   "source": [
    "sol"
   ]
  },
  {
   "cell_type": "code",
   "execution_count": 12,
   "metadata": {},
   "outputs": [
    {
     "data": {
      "image/png": "[encoded data removed]",
      "text/plain": [
       "<Figure size 432x288 with 1 Axes>"
      ]
     },
     "metadata": {
      "needs_background": "light"
     },
     "output_type": "display_data"
    }
   ],
   "source": [
    "# La solution\n",
    "plt.plot(sol.t, sol.y[0], 'crimson');\n",
    "plt.title('Comparison of La over time')\n",
    "plt.xlabel('Time (min)')\n",
    "plt.ylabel('Concentration of La (mol/m^3)');"
   ]
  },
  {
   "cell_type": "code",
   "execution_count": 13,
   "metadata": {},
   "outputs": [
    {
     "data": {
      "image/png": "[encoded data removed]",
      "text/plain": [
       "<Figure size 432x288 with 1 Axes>"
      ]
     },
     "metadata": {
      "needs_background": "light"
     },
     "output_type": "display_data"
    }
   ],
   "source": [
    "# Nd Solution\n",
    "plt.plot(sol.t, sol.y[1], color='deepskyblue');\n",
    "plt.title('Comparison of Nd over time')\n",
    "plt.xlabel('Time (min)')\n",
    "plt.ylabel('Concentration of Nd (mol/m^3)');"
   ]
  },
  {
   "cell_type": "code",
   "execution_count": 14,
   "metadata": {},
   "outputs": [
    {
     "data": {
      "image/png": "[encoded data removed]",
      "text/plain": [
       "<Figure size 432x288 with 1 Axes>"
      ]
     },
     "metadata": {
      "needs_background": "light"
     },
     "output_type": "display_data"
    }
   ],
   "source": [
    "# Na Solution\n",
    "plt.plot(sol.t, sol.y[2], color='lightpink');\n",
    "plt.title('Comparison of Na over time')\n",
    "plt.xlabel('Time (min)')\n",
    "plt.ylabel('Concentration of Na (mol/m^3)');"
   ]
  },
  {
   "cell_type": "code",
   "execution_count": 15,
   "metadata": {},
   "outputs": [
    {
     "data": {
      "image/png": "[encoded data removed]",
      "text/plain": [
       "<Figure size 432x288 with 1 Axes>"
      ]
     },
     "metadata": {
      "needs_background": "light"
     },
     "output_type": "display_data"
    }
   ],
   "source": [
    "# H Solution\n",
    "plt.plot(sol.t, sol.y[3], color='mediumseagreen');\n",
    "plt.title('Comparison of H over time')\n",
    "plt.xlabel('Time (min)')\n",
    "plt.ylabel('Concentration of H (mol/m^3)');"
   ]
  },
  {
   "cell_type": "markdown",
   "metadata": {},
   "source": [
    "__Computed Separation Factor__"
   ]
  },
  {
   "cell_type": "markdown",
   "metadata": {},
   "source": [
    "Takahashi _et al._ calculated separation factor by simply dividing the flux of the REE with higher permeation over the lower permeation REE (e.g. it would be $S_{J_M/J_{RE}} = \\frac{J_{La}}{J_{Nd}}$ or $S_{J_{Nd}/J_{Gd}} = \\frac{J_{Nd}}{J_Gd}$, $S_{J_{Nd}/J_{Y}} = \\frac{J_{Nd}}{J_Y}$\n",
    "\n",
    "Do we proceed to assume the membrane flux is the one we use in equations 19-20?"
   ]
  },
  {
   "cell_type": "markdown",
   "metadata": {},
   "source": [
    "$S_{J_M/J_{RE}} = \\frac{J_{La}}{J_{Nd}}$"
   ]
  },
  {
   "cell_type": "code",
   "execution_count": 16,
   "metadata": {},
   "outputs": [
    {
     "name": "stdout",
     "output_type": "stream",
     "text": [
      "10.12734413107419\n"
     ]
    }
   ],
   "source": [
    "J_La = sol.y[0][29]\n",
    "J_Nd = sol.y[1][29]\n",
    "\n",
    "S_La_Nd = (J_La/surface_area*V)/(J_Nd/surface_area*V)\n",
    "print(S_La_Nd)"
   ]
  },
  {
   "cell_type": "code",
   "execution_count": null,
   "metadata": {},
   "outputs": [],
   "source": []
  },
  {
   "cell_type": "markdown",
   "metadata": {},
   "source": [
    "![](model_pdf.PNG \"picture\")"
   ]
  },
  {
   "cell_type": "markdown",
   "metadata": {},
   "source": [
    "# def DONOTUSE(guess_26):\n",
    "    \n",
    "    '''\n",
    "    C_LaEDTA = guess_26[0]\n",
    "    C_NdEDTA = guess_26[1]\n",
    "    C_EDTA_nc = guess_26[2]\n",
    "    \n",
    "    K_La_abs = np.power(10, 15.50)\n",
    "    K_Nd_abs = np.power(10, 16.61)\n",
    "    \n",
    "    k1 = np.power(10, -2.00)\n",
    "    k2 = np.power(10, -2.67)\n",
    "    k3 = np.power(10, -6.16)\n",
    "    k4 = np.power(10, -10.26)\n",
    "    \n",
    "    alpha = (k1*k2*k3*k4)/(k1*k2*k3*k4 + \\\n",
    "                           k1*k2*k3*C_H_i + \\\n",
    "                           k1*k2*np.power(C_H_i, 2) + \\\n",
    "                           k1*np.power(C_H_i, 3) + \\\n",
    "                           np.power(C_H_i, 4))\n",
    "    \n",
    "    ## C_LaEDTA = x, C_NdEDTA = y, C_EDTA_nc = z\n",
    "    \n",
    "    solution = np.zeros(3)\n",
    "    \n",
    "    solution[0] = C_La_i - (C_LaEDTA / (K_La_abs*alpha*C_EDTA_nc) + C_LaEDTA)\n",
    "    solution[1] = C_Nd_i - (C_NdEDTA / (K_Nd_abs*alpha*C_EDTA_nc) + C_NdEDTA)\n",
    "    solution[2] = C_Na_i - (C_LaEDTA + C_NdEDTA + C_EDTA_nc)\n",
    "    \n",
    "    print(alpha)\n",
    "    \n",
    "    return solution\n",
    "    '''\n",
    "    pass"
   ]
  }
 ],
 "metadata": {
  "kernelspec": {
   "display_name": "Python 3",
   "language": "python",
   "name": "python3"
  },
  "language_info": {
   "codemirror_mode": {
    "name": "ipython",
    "version": 3
   },
   "file_extension": ".py",
   "mimetype": "text/x-python",
   "name": "python",
   "nbconvert_exporter": "python",
   "pygments_lexer": "ipython3",
   "version": "3.6.5"
  }
 },
 "nbformat": 4,
 "nbformat_minor": 4
}
