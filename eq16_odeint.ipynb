{
 "cells": [
  {
   "cell_type": "code",
   "execution_count": 41,
   "metadata": {},
   "outputs": [],
   "source": [
    "import numpy as np\n",
    "from scipy.integrate import odeint\n",
    "%matplotlib inline\n",
    "import matplotlib.pyplot as plt\n",
    "\n",
    "#List of constant values.\n",
    "surface_area = 0.005 \n",
    "valence = 3\n",
    "D_La = 4.4e13\n",
    "D_Nd = 5.2e13\n",
    "D_Na = 1.9e15\n",
    "D_H = 1.1e16\n",
    "\n",
    "K_H_La = 1.49\n",
    "K_H_Nd = 1.15\n",
    "K_H_Na = 0.32\n",
    "\n",
    "#J_Na = D_Na*C_Na_mem0\n",
    "#J_H = D_H*C_H_mem0\n",
    "I = 20\n",
    "F = 96485\n",
    "V = 0.00125\n",
    "\n",
    "tspan = np.linspace(0, 60000, 100)\n",
    "\n",
    "def RKG_Takahashi(z, t):\n",
    "    '''\n",
    "        z[0] = C_La\n",
    "        z[1] = C_Nd\n",
    "        z[2] = C_Na\n",
    "        z[3] = C_H\n",
    "        \n",
    "        f1 = dC_La/dt\n",
    "        f2 = dC_Nd/dt\n",
    "        f3 = dC_Na/dt\n",
    "        f4 = dC_H/dt\n",
    "        \n",
    "        ** Need to convert f5-f8 into an array**\n",
    "    '''\n",
    "    ## solve the equations 7-9 simultaneously here prior to the four DEs\n",
    "    \n",
    "    C_La_mem, C_Nd_mem, C_Na_mem, C_H_mem = z # initial values\n",
    "    \n",
    "    f1 = surface_area * ((valence * D_La * C_La_mem) / \\\n",
    "                         (valence**2 * D_La * C_La_mem + \\\n",
    "                          valence**2 * D_Nd * C_Nd_mem + \\\n",
    "                          D_Na * C_Na_mem + D_H * C_H_mem)) * I/F * 1/-V\n",
    "    \n",
    "    f2 = surface_area * ((valence * D_Nd * C_Nd_mem) / \\\n",
    "                         (valence**2 * D_Nd * C_Nd_mem + \\\n",
    "                          valence**2 * D_La * C_La_mem + \\\n",
    "                          D_Na * C_Na_mem + D_H * C_H_mem)) * I/F * 1/-V\n",
    "    \n",
    "    f3 = surface_area * ((D_Na * C_Na_mem) / (valence**2 * D_La * C_La_mem + \\\n",
    "                                              valence**2 * D_Nd * C_Nd_mem + \\\n",
    "                                              D_Na * C_Na_mem + D_H * C_H_mem)) * I/F * 1/-V\n",
    "    \n",
    "    f4 = surface_area * ((D_H * C_H_mem) / (valence**2 * D_La * C_La_mem + \\\n",
    "                                            valence**2 * D_Nd * C_Nd_mem + \\\n",
    "                                            D_Na * C_Na_mem + D_H * C_H_mem)) * I/F * 1/-V\n",
    "     \n",
    "    return [f1, f2, f3, f4]"
   ]
  },
  {
   "cell_type": "code",
   "execution_count": 42,
   "metadata": {},
   "outputs": [],
   "source": [
    "sol = odeint(RKG_Takahashi, [9.5, 3, 5, 1], tspan)"
   ]
  },
  {
   "cell_type": "code",
   "execution_count": 43,
   "metadata": {},
   "outputs": [
    {
     "data": {
      "text/plain": [
       "numpy.ndarray"
      ]
     },
     "execution_count": 43,
     "metadata": {},
     "output_type": "execute_result"
    }
   ],
   "source": [
    "type(sol)"
   ]
  },
  {
   "cell_type": "code",
   "execution_count": 44,
   "metadata": {},
   "outputs": [
    {
     "data": {
      "text/plain": [
       "array([[ 9.50000000e+00,  3.00000000e+00,  5.00000000e+00,\n",
       "         1.00000000e+00],\n",
       "       [ 9.47411785e+00,  2.99034303e+00,  4.80746069e+00,\n",
       "         7.96644884e-01],\n",
       "       [ 9.44536282e+00,  2.97961977e+00,  4.60165182e+00,\n",
       "         6.18376875e-01],\n",
       "       [ 9.41342801e+00,  2.96771767e+00,  4.38270844e+00,\n",
       "         4.66319219e-01],\n",
       "       [ 9.37804648e+00,  2.95453955e+00,  4.15147454e+00,\n",
       "         3.40720270e-01],\n",
       "       [ 9.33902202e+00,  2.94001507e+00,  3.90962606e+00,\n",
       "         2.40703780e-01],\n",
       "       [ 9.29625128e+00,  2.92410894e+00,  3.65965589e+00,\n",
       "         1.64192798e-01],\n",
       "       [ 9.24972696e+00,  2.90682199e+00,  3.40468318e+00,\n",
       "         1.08087551e-01],\n",
       "       [ 9.19951841e+00,  2.88818382e+00,  3.14812538e+00,\n",
       "         6.86737301e-02],\n",
       "       [ 9.14573624e+00,  2.86823958e+00,  2.89333683e+00,\n",
       "         4.21297497e-02],\n",
       "       [ 9.08849434e+00,  2.84703578e+00,  2.64332519e+00,\n",
       "         2.49667115e-02],\n",
       "       [ 9.02788123e+00,  2.82460965e+00,  2.40060279e+00,\n",
       "         1.42950631e-02],\n",
       "       [ 8.96394572e+00,  2.80098392e+00,  2.16716360e+00,\n",
       "         7.90620247e-03],\n",
       "       [ 8.89669580e+00,  2.77616648e+00,  1.94453898e+00,\n",
       "         4.22112565e-03],\n",
       "       [ 8.82610643e+00,  2.75015335e+00,  1.73388247e+00,\n",
       "         2.17335077e-03],\n",
       "       [ 8.75213188e+00,  2.72293329e+00,  1.53605012e+00,\n",
       "         1.07775680e-03],\n",
       "       [ 8.67471943e+00,  2.69449298e+00,  1.35166037e+00,\n",
       "         5.14026986e-04],\n",
       "       [ 8.59382271e+00,  2.66482186e+00,  1.18113070e+00,\n",
       "         2.35449917e-04],\n",
       "       [ 8.50941344e+00,  2.63391651e+00,  1.02469478e+00,\n",
       "         1.03436439e-04],\n",
       "       [ 8.42149118e+00,  2.60178415e+00,  8.82406778e-01,\n",
       "         4.35296747e-05],\n",
       "       [ 8.33009050e+00,  2.56844517e+00,  7.54139965e-01,\n",
       "         1.75317987e-05],\n",
       "       [ 8.23528545e+00,  2.53393463e+00,  6.39585756e-01,\n",
       "         6.75351660e-06],\n",
       "       [ 8.13719087e+00,  2.49830262e+00,  5.38258034e-01,\n",
       "         2.48650282e-06],\n",
       "       [ 8.03596078e+00,  2.46161346e+00,  4.49505596e-01,\n",
       "         8.77430284e-07],\n",
       "       [ 7.93178388e+00,  2.42394393e+00,  3.72533704e-01,\n",
       "         2.97582934e-07],\n",
       "       [ 7.82487667e+00,  2.38538057e+00,  3.06433851e-01,\n",
       "         9.41685910e-08],\n",
       "       [ 7.71547511e+00,  2.34601651e+00,  2.50219005e-01,\n",
       "         2.93800480e-08],\n",
       "       [ 7.60382554e+00,  2.30594809e+00,  2.02861210e-01,\n",
       "         8.61906224e-09],\n",
       "       [ 7.49017583e+00,  2.26527161e+00,  1.63328039e-01,\n",
       "         1.73455131e-09],\n",
       "       [ 7.37476752e+00,  2.22408038e+00,  1.30614865e-01,\n",
       "         3.07233679e-09],\n",
       "       [ 7.25782941e+00,  2.18246253e+00,  1.03770980e-01,\n",
       "        -1.66007340e-09],\n",
       "       [ 7.13957289e+00,  2.14049928e+00,  8.19184943e-02,\n",
       "         3.00591957e-09],\n",
       "       [ 7.02018903e+00,  2.09826400e+00,  6.42641791e-02,\n",
       "        -4.52409490e-09],\n",
       "       [ 6.89984712e+00,  2.05582175e+00,  5.01048728e-02,\n",
       "         5.80042361e-09],\n",
       "       [ 6.77869463e+00,  2.01322937e+00,  3.88276956e-02,\n",
       "        -9.34872140e-09],\n",
       "       [ 6.65685800e+00,  1.97053585e+00,  2.99063723e-02,\n",
       "         1.37375750e-08],\n",
       "       [ 6.53444416e+00,  1.92778291e+00,  2.28949303e-02,\n",
       "         4.80751791e-09],\n",
       "       [ 6.41154235e+00,  1.88500581e+00,  1.74198702e-02,\n",
       "         1.05212482e-09],\n",
       "       [ 6.28822621e+00,  1.84223409e+00,  1.31716817e-02,\n",
       "         2.02431888e-10],\n",
       "       [ 6.16455578e+00,  1.79949239e+00,  9.89631932e-03,\n",
       "         3.75880447e-10],\n",
       "       [ 6.04057947e+00,  1.75680118e+00,  7.38709230e-03,\n",
       "         2.56827655e-09],\n",
       "       [ 5.91633589e+00,  1.71417748e+00,  5.47718044e-03,\n",
       "        -6.38204655e-10],\n",
       "       [ 5.79185542e+00,  1.67163541e+00,  4.03299272e-03,\n",
       "         1.74188241e-09],\n",
       "       [ 5.66716166e+00,  1.62918681e+00,  2.94831686e-03,\n",
       "         4.88528992e-10],\n",
       "       [ 5.54227260e+00,  1.58684162e+00,  2.13930880e-03,\n",
       "         1.53859410e-10],\n",
       "       [ 5.41720169e+00,  1.54460830e+00,  1.54023738e-03,\n",
       "         3.53087400e-10],\n",
       "       [ 5.29195867e+00,  1.50249415e+00,  1.09993522e-03,\n",
       "         4.81373146e-09],\n",
       "       [ 5.16655032e+00,  1.46050562e+00,  7.78830552e-04,\n",
       "        -2.28170768e-09],\n",
       "       [ 5.04098098e+00,  1.41864846e+00,  5.46556689e-04,\n",
       "         7.23538582e-09],\n",
       "       [ 4.91525308e+00,  1.37692796e+00,  3.79966709e-04,\n",
       "         7.08502805e-10],\n",
       "       [ 4.78936748e+00,  1.33534911e+00,  2.61554446e-04,\n",
       "         1.17685597e-10],\n",
       "       [ 4.66332379e+00,  1.29391666e+00,  1.78175144e-04,\n",
       "         1.24624670e-11],\n",
       "       [ 4.53712060e+00,  1.25263531e+00,  1.20040075e-04,\n",
       "         3.02524703e-11],\n",
       "       [ 4.41075564e+00,  1.21150971e+00,  7.99357685e-05,\n",
       "        -4.87607437e-10],\n",
       "       [ 4.28422593e+00,  1.17054462e+00,  5.25763126e-05,\n",
       "         5.26631208e-11],\n",
       "       [ 4.15752790e+00,  1.12974487e+00,  3.41268089e-05,\n",
       "         1.37082438e-09],\n",
       "       [ 4.03065741e+00,  1.08911553e+00,  2.18455697e-05,\n",
       "        -4.31511806e-09],\n",
       "       [ 3.90360985e+00,  1.04866186e+00,  1.37776655e-05,\n",
       "        -1.77867950e-09],\n",
       "       [ 3.77638011e+00,  1.00838941e+00,  8.55144523e-06,\n",
       "        -3.64632073e-11],\n",
       "       [ 3.64896263e+00,  9.68304076e-01,  5.21911172e-06,\n",
       "         1.05646846e-11],\n",
       "       [ 3.52135140e+00,  9.28412087e-01,  3.13062842e-06,\n",
       "        -4.10568493e-10],\n",
       "       [ 3.39353984e+00,  8.88720155e-01,  1.83706227e-06,\n",
       "        -3.08196393e-09],\n",
       "       [ 3.26552091e+00,  8.49235422e-01,  1.05580085e-06,\n",
       "        -5.69314857e-09],\n",
       "       [ 3.13728696e+00,  8.09965592e-01,  5.93052939e-07,\n",
       "        -1.93241565e-10],\n",
       "       [ 3.00882976e+00,  7.70918956e-01,  3.25438172e-07,\n",
       "         3.80253027e-09],\n",
       "       [ 2.88014027e+00,  7.32104573e-01,  1.73413414e-07,\n",
       "         9.23761925e-10],\n",
       "       [ 2.75120874e+00,  6.93532207e-01,  8.97807818e-08,\n",
       "         1.91461386e-10],\n",
       "       [ 2.62202445e+00,  6.55212589e-01,  4.49235522e-08,\n",
       "        -6.83329016e-09],\n",
       "       [ 2.49257568e+00,  6.17157438e-01,  2.16745551e-08,\n",
       "        -1.35027245e-10],\n",
       "       [ 2.36284953e+00,  5.79379672e-01,  1.00560720e-08,\n",
       "         5.90904961e-09],\n",
       "       [ 2.23283163e+00,  5.41893647e-01,  4.45347590e-09,\n",
       "         1.48637282e-10],\n",
       "       [ 2.10250605e+00,  5.04715307e-01,  1.87533052e-09,\n",
       "        -3.39968633e-09],\n",
       "       [ 1.97185486e+00,  4.67862569e-01,  7.44428309e-10,\n",
       "        -1.23155896e-10],\n",
       "       [ 1.84085786e+00,  4.31355640e-01,  2.77051917e-10,\n",
       "         5.71143724e-09],\n",
       "       [ 1.70949200e+00,  3.95217586e-01,  9.54558020e-11,\n",
       "         2.54426078e-10],\n",
       "       [ 1.57773074e+00,  3.59474918e-01,  3.00948093e-11,\n",
       "        -1.42621446e-09],\n",
       "       [ 1.44554326e+00,  3.24158472e-01,  8.55140164e-12,\n",
       "         5.33752067e-09],\n",
       "       [ 1.31289319e+00,  2.89304619e-01,  2.14281045e-12,\n",
       "        -1.78889600e-09],\n",
       "       [ 1.17973699e+00,  2.54956898e-01,  4.59643866e-13,\n",
       "        -2.73399267e-10],\n",
       "       [ 1.04602150e+00,  2.21168456e-01,  8.13513063e-14,\n",
       "         2.36134294e-10],\n",
       "       [ 9.11680350e-01,  1.88005684e-01,  1.12582213e-14,\n",
       "        -8.90847674e-11],\n",
       "       [ 7.76627994e-01,  1.55554116e-01,  1.12221288e-15,\n",
       "        -4.17609729e-11],\n",
       "       [ 6.40749834e-01,  1.23928353e-01,  7.06291672e-17,\n",
       "        -4.68962560e-09],\n",
       "       [ 5.03883589e-01,  9.32906721e-02,  2.23791566e-18,\n",
       "         2.05343811e-10],\n",
       "       [ 3.65779975e-01,  6.38903624e-02,  2.38094779e-20,\n",
       "        -3.25093727e-09],\n",
       "       [ 2.26000062e-01,  3.61663504e-02,  1.79631558e-24,\n",
       "        -1.45074921e-10],\n",
       "       [ 8.35110158e-02,  1.11514716e-02, -1.81615967e-27,\n",
       "        -1.49408865e-11],\n",
       "       [-4.18948635e-07,  1.44803266e-09,  4.43493317e-33,\n",
       "        -2.18523059e-01],\n",
       "       [-4.25424564e-07,  1.47451582e-09,  5.50938738e-33,\n",
       "        -7.21034813e-01],\n",
       "       [-4.28206619e-07,  1.48591725e-09,  6.04678619e-33,\n",
       "        -1.22354658e+00],\n",
       "       [-4.30027834e-07,  1.49338834e-09,  6.42526637e-33,\n",
       "        -1.72605835e+00],\n",
       "       [-4.31529810e-07,  1.49955216e-09,  6.74621844e-33,\n",
       "        -2.22857012e+00],\n",
       "       [-4.32784526e-07,  1.50470312e-09,  7.02141829e-33,\n",
       "        -2.73108189e+00],\n",
       "       [-4.33791982e-07,  1.50884122e-09,  7.25086592e-33,\n",
       "        -3.23359366e+00],\n",
       "       [-4.34569419e-07,  1.51203704e-09,  7.43760568e-33,\n",
       "        -3.73610543e+00],\n",
       "       [-4.35251501e-07,  1.51484182e-09,  7.60541451e-33,\n",
       "        -4.23861720e+00],\n",
       "       [-4.35866825e-07,  1.51737264e-09,  7.75934188e-33,\n",
       "        -4.74112897e+00],\n",
       "       [-4.36415391e-07,  1.51962949e-09,  7.89938779e-33,\n",
       "        -5.24364074e+00],\n",
       "       [-4.37107850e-07,  1.52247765e-09,  8.07269386e-33,\n",
       "        -5.74615252e+00],\n",
       "       [-4.37456448e-07,  1.52391337e-09,  8.16911356e-33,\n",
       "        -6.24866429e+00]])"
      ]
     },
     "execution_count": 44,
     "metadata": {},
     "output_type": "execute_result"
    }
   ],
   "source": [
    "sol"
   ]
  },
  {
   "cell_type": "code",
   "execution_count": 45,
   "metadata": {},
   "outputs": [
    {
     "data": {
      "text/plain": [
       "<matplotlib.legend.Legend at 0x118b73f60>"
      ]
     },
     "execution_count": 45,
     "metadata": {},
     "output_type": "execute_result"
    },
    {
     "data": {
      "image/png": "[encoded data removed]",
      "text/plain": [
       "<Figure size 432x288 with 1 Axes>"
      ]
     },
     "metadata": {
      "needs_background": "light"
     },
     "output_type": "display_data"
    }
   ],
   "source": [
    "plt.plot(tspan, sol[:,0], 'crimson')\n",
    "plt.plot(tspan, sol[:,1], 'deepskyblue')\n",
    "plt.plot(tspan, sol[:,2], 'lightpink')\n",
    "plt.plot(tspan, sol[:,3], 'mediumseagreen')\n",
    "plt.xlabel('Time (s)')\n",
    "plt.ylabel('Concentration (mol/m^3)')\n",
    "plt.legend(['La', 'Nd', 'EDTA', 'H'])"
   ]
  },
  {
   "cell_type": "code",
   "execution_count": 46,
   "metadata": {},
   "outputs": [
    {
     "data": {
      "text/plain": [
       "[<matplotlib.lines.Line2D at 0x119a8b400>]"
      ]
     },
     "execution_count": 46,
     "metadata": {},
     "output_type": "execute_result"
    },
    {
     "data": {
      "image/png": "[encoded data removed]",
      "text/plain": [
       "<Figure size 432x288 with 1 Axes>"
      ]
     },
     "metadata": {
      "needs_background": "light"
     },
     "output_type": "display_data"
    }
   ],
   "source": [
    "CLa = sol[:,0]\n",
    "CNd = sol[:,1]\n",
    "\n",
    "conc = [np.empty(len(CLa)), np.empty(len(CLa))]\n",
    "\n",
    "for i in range(len(CLa)):\n",
    "    conc[0][i] = CLa[i]*-1\n",
    "    conc[1][i] = CNd[i]*-1\n",
    "    \n",
    "plt.plot(tspan, conc[0])\n",
    "plt.plot(tspan, conc[1])"
   ]
  },
  {
   "cell_type": "code",
   "execution_count": 47,
   "metadata": {},
   "outputs": [],
   "source": [
    "def RKG_Takahashi_strip(z, t):\n",
    "    '''\n",
    "        z[0] = C_La\n",
    "        z[1] = C_Nd\n",
    "        z[2] = C_Na\n",
    "        z[3] = C_H\n",
    "        \n",
    "        f1 = dC_La/dt\n",
    "        f2 = dC_Nd/dt\n",
    "        f3 = dC_Na/dt\n",
    "        f4 = dC_H/dt\n",
    "        \n",
    "        ** Need to convert f5-f8 into an array**\n",
    "    '''\n",
    "    ## solve the equations 7-9 simultaneously here prior to the four DEs\n",
    "    \n",
    "    C_La_mem, C_Nd_mem, C_Na_mem, C_H_mem = z # initial values\n",
    "    \n",
    "    f1 = surface_area * ((valence * D_La * C_La_mem) / \\\n",
    "                         (valence**2 * D_La * C_La_mem + \\\n",
    "                          valence**2 * D_Nd * C_Nd_mem + \\\n",
    "                          D_Na * C_Na_mem + D_H * C_H_mem)) * I/F * 1/V\n",
    "    \n",
    "    f2 = surface_area * ((valence * D_Nd * C_Nd_mem) / \\\n",
    "                         (valence**2 * D_Nd * C_Nd_mem + \\\n",
    "                          valence**2 * D_La * C_La_mem + \\\n",
    "                          D_Na * C_Na_mem + D_H * C_H_mem)) * I/F * 1/V\n",
    "    \n",
    "    f3 = surface_area * ((D_Na * C_Na_mem) / (valence**2 * D_La * C_La_mem + \\\n",
    "                                              valence**2 * D_Nd * C_Nd_mem + \\\n",
    "                                              D_Na * C_Na_mem + D_H * C_H_mem)) * I/F * 1/V\n",
    "    \n",
    "    f4 = surface_area * ((D_H * C_H_mem) / (valence**2 * D_La * C_La_mem + \\\n",
    "                                            valence**2 * D_Nd * C_Nd_mem + \\\n",
    "                                            D_Na * C_Na_mem + D_H * C_H_mem)) * I/F * 1/V\n",
    "     \n",
    "    return [f1, f2, f3, f4]"
   ]
  },
  {
   "cell_type": "code",
   "execution_count": 48,
   "metadata": {},
   "outputs": [],
   "source": [
    "sol_strip = odeint(RKG_Takahashi_strip, [1, 1, 1, 1], tspan)"
   ]
  },
  {
   "cell_type": "code",
   "execution_count": 49,
   "metadata": {},
   "outputs": [
    {
     "data": {
      "text/plain": [
       "array([[ 1.        ,  1.        ,  1.        ,  1.        ],\n",
       "       [ 1.00416268,  1.00492139,  1.06161675,  1.41364282],\n",
       "       [ 1.00737757,  1.00872478,  1.11160235,  1.84511412],\n",
       "       [ 1.0099839 ,  1.01180984,  1.15372406,  2.28843006],\n",
       "       [ 1.01216963,  1.01439815,  1.19018838,  2.74015538],\n",
       "       [ 1.01404864,  1.01662406,  1.22239006,  3.1981507 ],\n",
       "       [ 1.01569472,  1.01857466,  1.25126417,  3.66099834],\n",
       "       [ 1.01715822,  1.02030938,  1.27746735,  4.12771227],\n",
       "       [ 1.01847495,  1.02187052,  1.30147813,  4.59757965],\n",
       "       [ 1.01967123,  1.02328917,  1.32365598,  5.07006877],\n",
       "       [ 1.02076696,  1.02458885,  1.34427776,  5.54477254],\n",
       "       [ 1.02177753,  1.02578773,  1.36356135,  6.02137239],\n",
       "       [ 1.02271506,  1.02690017,  1.38168125,  6.49961434],\n",
       "       [ 1.0235893 ,  1.02793767,  1.39877949,  6.97929266],\n",
       "       [ 1.02440817,  1.02890961,  1.41497317,  7.46023833],\n",
       "       [ 1.0251782 ,  1.02982371,  1.43036008,  7.94231079],\n",
       "       [ 1.02590485,  1.03068642,  1.44502269,  8.42539188],\n",
       "       [ 1.0265927 ,  1.03150317,  1.45903124,  8.9093813 ],\n",
       "       [ 1.02724566,  1.03227859,  1.47244601,  9.39419317],\n",
       "       [ 1.02786708,  1.03301662,  1.48531921,  9.87975339],\n",
       "       [ 1.02845983,  1.0337207 ,  1.49769629, 10.36599757],\n",
       "       [ 1.02902645,  1.0343938 ,  1.50961711, 10.85286941],\n",
       "       [ 1.02956911,  1.03503851,  1.52111682, 11.34031935],\n",
       "       [ 1.03008976,  1.03565712,  1.53222657, 11.82830358],\n",
       "       [ 1.03059011,  1.03625165,  1.54297412, 12.31678316],\n",
       "       [ 1.03107166,  1.03682392,  1.5533843 , 12.8057233 ],\n",
       "       [ 1.03153579,  1.03737551,  1.56347941, 13.29509283],\n",
       "       [ 1.03198369,  1.03790786,  1.57327957, 13.78486367],\n",
       "       [ 1.03241646,  1.03842228,  1.58280299, 14.27501047],\n",
       "       [ 1.03283509,  1.03891992,  1.59206619, 14.76551022],\n",
       "       [ 1.03324047,  1.03940184,  1.60108425, 15.25634203],\n",
       "       [ 1.03363341,  1.03986901,  1.60987093, 15.7474868 ],\n",
       "       [ 1.03401465,  1.0403223 ,  1.61843883, 16.23892709],\n",
       "       [ 1.03438486,  1.04076251,  1.62679954, 16.73064689],\n",
       "       [ 1.03474467,  1.04119037,  1.63496372, 17.22263147],\n",
       "       [ 1.03509464,  1.04160656,  1.64294122, 17.71486729],\n",
       "       [ 1.03543529,  1.04201169,  1.65074114, 18.20734179],\n",
       "       [ 1.03576711,  1.04240634,  1.65837191, 18.70004338],\n",
       "       [ 1.03609054,  1.04279104,  1.66584137, 19.19296131],\n",
       "       [ 1.03640599,  1.04316627,  1.67315681, 19.68608557],\n",
       "       [ 1.03671386,  1.0435325 ,  1.68032503, 20.17940686],\n",
       "       [ 1.03701449,  1.04389013,  1.68735237, 20.67291649],\n",
       "       [ 1.03730822,  1.04423958,  1.69424476, 21.16660636],\n",
       "       [ 1.03759535,  1.04458119,  1.70100776, 21.66046887],\n",
       "       [ 1.03787618,  1.04491533,  1.70764658, 22.15449693],\n",
       "       [ 1.03815098,  1.0452423 ,  1.71416611, 22.64868385],\n",
       "       [ 1.03842   ,  1.04556241,  1.72057097, 23.14302338],\n",
       "       [ 1.03868348,  1.04587594,  1.72686548, 23.63750961],\n",
       "       [ 1.03894164,  1.04618316,  1.73305373, 24.132137  ],\n",
       "       [ 1.03919469,  1.04648432,  1.73913959, 24.62690029],\n",
       "       [ 1.03944284,  1.04677964,  1.7451267 , 25.12179455],\n",
       "       [ 1.03968626,  1.04706936,  1.7510185 , 25.61681509],\n",
       "       [ 1.03992514,  1.04735368,  1.75681828, 26.11195749],\n",
       "       [ 1.04015964,  1.0476328 ,  1.76252912, 26.60721757],\n",
       "       [ 1.04038991,  1.04790691,  1.76815398, 27.10259134],\n",
       "       [ 1.04061612,  1.04817618,  1.77369563, 27.59807502],\n",
       "       [ 1.0408384 ,  1.04844078,  1.77915674, 28.09366505],\n",
       "       [ 1.04105688,  1.04870088,  1.78453984, 28.58935801],\n",
       "       [ 1.04127169,  1.04895661,  1.78984733, 29.08515064],\n",
       "       [ 1.04148295,  1.04920814,  1.79508151, 29.58103988],\n",
       "       [ 1.04169078,  1.04945558,  1.80024456, 30.07702276],\n",
       "       [ 1.0418953 ,  1.04969908,  1.80533858, 30.57309648],\n",
       "       [ 1.04209659,  1.04993876,  1.81036556, 31.06925835],\n",
       "       [ 1.04229477,  1.05017474,  1.81532741, 31.56550582],\n",
       "       [ 1.04248992,  1.05040712,  1.82022595, 32.06183643],\n",
       "       [ 1.04268214,  1.05063603,  1.82506295, 32.55824783],\n",
       "       [ 1.04287152,  1.05086155,  1.82984006, 33.05473779],\n",
       "       [ 1.04305814,  1.05108379,  1.8345589 , 33.55130415],\n",
       "       [ 1.04324208,  1.05130284,  1.83922101, 34.04794484],\n",
       "       [ 1.04342341,  1.0515188 ,  1.84382786, 34.5446579 ],\n",
       "       [ 1.0436022 ,  1.05173175,  1.84838087, 35.04144142],\n",
       "       [ 1.04377854,  1.05194177,  1.85288141, 35.53829358],\n",
       "       [ 1.04395248,  1.05214895,  1.8573308 , 36.03521263],\n",
       "       [ 1.04412408,  1.05235335,  1.86173028, 36.53219689],\n",
       "       [ 1.04429342,  1.05255506,  1.86608109, 37.02924472],\n",
       "       [ 1.04446055,  1.05275414,  1.87038438, 37.52635459],\n",
       "       [ 1.04462552,  1.05295066,  1.87464127, 38.02352498],\n",
       "       [ 1.0447884 ,  1.05314468,  1.87885287, 38.52075445],\n",
       "       [ 1.04494923,  1.05333628,  1.88302021, 39.01804161],\n",
       "       [ 1.04510806,  1.0535255 ,  1.88714431, 39.51538511],\n",
       "       [ 1.04526495,  1.05371241,  1.89122614, 40.01278365],\n",
       "       [ 1.04541995,  1.05389707,  1.89526664, 40.51023599],\n",
       "       [ 1.04557308,  1.05407952,  1.89926672, 41.00774092],\n",
       "       [ 1.04572441,  1.05425982,  1.90322726, 41.50529726],\n",
       "       [ 1.04587397,  1.05443802,  1.9071491 , 42.0029039 ],\n",
       "       [ 1.04602181,  1.05461417,  1.91103308, 42.50055974],\n",
       "       [ 1.04616796,  1.05478831,  1.91487999, 42.99826372],\n",
       "       [ 1.04631246,  1.0549605 ,  1.9186906 , 43.49601483],\n",
       "       [ 1.04645535,  1.05513077,  1.92246565, 43.99381209],\n",
       "       [ 1.04659667,  1.05529916,  1.92620586, 44.49165452],\n",
       "       [ 1.04673644,  1.05546572,  1.92991193, 44.98954122],\n",
       "       [ 1.0468747 ,  1.05563049,  1.93358455, 45.48747127],\n",
       "       [ 1.04701149,  1.0557935 ,  1.93722437, 45.98544382],\n",
       "       [ 1.04714684,  1.0559548 ,  1.94083203, 46.48345801],\n",
       "       [ 1.04728077,  1.05611441,  1.94440814, 46.98151304],\n",
       "       [ 1.04741331,  1.05627238,  1.94795331, 47.4796081 ],\n",
       "       [ 1.0475445 ,  1.05642874,  1.95146812, 47.97774243],\n",
       "       [ 1.04767436,  1.05658351,  1.95495314, 48.47591528],\n",
       "       [ 1.04780292,  1.05673674,  1.95840892, 48.97412593],\n",
       "       [ 1.0479302 ,  1.05688845,  1.96183599, 49.47237366]])"
      ]
     },
     "execution_count": 49,
     "metadata": {},
     "output_type": "execute_result"
    }
   ],
   "source": [
    "sol_strip"
   ]
  },
  {
   "cell_type": "code",
   "execution_count": 50,
   "metadata": {},
   "outputs": [
    {
     "data": {
      "text/plain": [
       "<matplotlib.legend.Legend at 0x119c02320>"
      ]
     },
     "execution_count": 50,
     "metadata": {},
     "output_type": "execute_result"
    },
    {
     "data": {
      "image/png": "[encoded data removed]",
      "text/plain": [
       "<Figure size 432x288 with 1 Axes>"
      ]
     },
     "metadata": {
      "needs_background": "light"
     },
     "output_type": "display_data"
    }
   ],
   "source": [
    "tspan2 = np.linspace(0, 1000, 100)\n",
    "\n",
    "plt.plot(tspan2, sol_strip[:,0], 'crimson')\n",
    "plt.plot(tspan2, sol_strip[:,1], 'deepskyblue')\n",
    "plt.plot(tspan2, sol_strip[:,2], 'lightpink')\n",
    "plt.plot(tspan2, sol_strip[:,3], 'mediumseagreen')\n",
    "plt.xlabel('Time (s)')\n",
    "plt.ylabel('Concentration (mol/m^3)')\n",
    "plt.legend(['La', 'Nd', 'EDTA', 'H'])"
   ]
  },
  {
   "cell_type": "code",
   "execution_count": null,
   "metadata": {},
   "outputs": [],
   "source": [
    "def odeint_taka(z, t):\n",
    "    \n",
    "    dzdt = surface_area * ((valence * D_La * z) / (valence**2 * D_La * z + valence**2 * D_Nd * 10 + D_Na * 5 + D_H * 0.0488)) * I/F * 1/-V\n",
    "    \n",
    "    return dzdt"
   ]
  },
  {
   "cell_type": "code",
   "execution_count": null,
   "metadata": {},
   "outputs": [],
   "source": [
    "sol_odeint = odeint(odeint_taka, [10.0], tspan)"
   ]
  },
  {
   "cell_type": "code",
   "execution_count": null,
   "metadata": {},
   "outputs": [],
   "source": [
    "sol_odeint"
   ]
  },
  {
   "cell_type": "code",
   "execution_count": null,
   "metadata": {},
   "outputs": [],
   "source": [
    "plt.plot(tspan, sol_odeint)"
   ]
  }
 ],
 "metadata": {
  "kernelspec": {
   "display_name": "Python 3",
   "language": "python",
   "name": "python3"
  },
  "language_info": {
   "codemirror_mode": {
    "name": "ipython",
    "version": 3
   },
   "file_extension": ".py",
   "mimetype": "text/x-python",
   "name": "python",
   "nbconvert_exporter": "python",
   "pygments_lexer": "ipython3",
   "version": "3.6.5"
  }
 },
 "nbformat": 4,
 "nbformat_minor": 4
}
